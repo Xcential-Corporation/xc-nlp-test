{
 "cells": [
  {
   "cell_type": "markdown",
   "metadata": {},
   "source": [
    "# Document and Section Similarity Score Predictor using Count Vectorizer with Calculating Time of Cosine Similarity and Array List response"
   ]
  },
  {
   "cell_type": "code",
   "execution_count": 1,
   "metadata": {},
   "outputs": [],
   "source": [
    "# python\n",
    "import time\n",
    "import pickle\n",
    "import re, string\n",
    "import os\n",
    "import pandas as pd\n",
    "from os import path, listdir\n",
    "from pathlib import Path\n",
    "from os.path import isfile, join\n",
    "from types import new_class\n",
    "from typing import List\n",
    "from lxml import etree \n",
    "from contextlib import ExitStack\n",
    "import sklearn.feature_extraction.text\n",
    "from nltk.tokenize import PunktSentenceTokenizer, RegexpTokenizer, TreebankWordTokenizer\n",
    "from sklearn.feature_extraction.text import CountVectorizer, HashingVectorizer\n",
    "from sklearn.feature_extraction.text import TfidfVectorizer\n",
    "from scipy.spatial.distance import cosine\n",
    "from sklearn.metrics.pairwise import cosine_similarity\n",
    "import matplotlib.pyplot as plt\n",
    "\n",
    "\n",
    "# Among the larger bills is samples/congress/116/BILLS-116s1790enr.xml (~ 10MB)\n",
    "\n",
    "PATH_116_USLM = 'data/samples/congress/116/uslm'\n",
    "PATH_117_USLM = 'data/samples/congress/117/uslm'\n",
    "PATH_116_USLM_TRAIN = 'data/samples/congress/116/train'\n",
    "PATH_116_TEXT = 'data/samples/congress/116/txt'\n",
    "\n",
    "BILLS_SAMPLE = [f'BILLS-116hr{number}ih.xml' for number in range(100, 300)]\n",
    "BIG_BILLS = ['BILLS-116s1790enr.xml', 'BILLS-116hjres31enr.xml']\n",
    "BIG_BILLS_PATHS = [path.join(PATH_116_USLM, bill) for bill in (BIG_BILLS + BILLS_SAMPLE)]\n",
    "\n",
    "SAMPLE_BILL_PATHS_TRAIN = [join(PATH_116_USLM_TRAIN, f) for f in listdir(PATH_116_USLM) if isfile(join(PATH_116_USLM_TRAIN, f))]\n",
    "SAMPLE_BILL_PATHS = [join(PATH_117_USLM, f) for f in listdir(PATH_117_USLM) if isfile(join(PATH_117_USLM, f))]\n",
    "\n",
    "\n",
    "NAMESPACES = {'uslm': 'http://xml.house.gov/schemas/uslm/1.0'}\n",
    "\n",
    "\n",
    "def get_filepaths(dirpath: str, reMatch = r'.xml$') -> List[str]:\n",
    "    return [join(dirpath, f) for f in listdir(dirpath) if (len(re.findall(reMatch, f)) > 0) and isfile(join(dirpath, f))]\n",
    "\n",
    "def getEnum(section) -> str:\n",
    "  enumpath = section.xpath('enum')  \n",
    "  if len(enumpath) > 0:\n",
    "    return enumpath[0].text\n",
    "  return ''\n",
    "\n",
    "def getHeader(section) -> str:\n",
    "  headerpath = section.xpath('header')  \n",
    "  if len(headerpath) > 0:\n",
    "    return headerpath[0].text\n",
    "  return ''\n",
    "\n",
    "def text_to_vect(txt: str , ngram_size: int = 4):\n",
    "    \"\"\"\n",
    "    Gets ngrams from text\n",
    "    \"\"\"\n",
    "    # See https://stackoverflow.com/a/32128803/628748\n",
    "    tokenizer = PunktSentenceTokenizer()\n",
    "    sentences = tokenizer.tokenize(txt)\n",
    "    #vect = sklearn.feature_extraction.text.CountVectorizer(ngram_range=(ngram_size,ngram_size),\n",
    "    #    tokenizer=TreebankWordTokenizer().tokenize, lowercase=True)\n",
    "    vect = sklearn.feature_extraction.text.CountVectorizer(ngram_range=(ngram_size,ngram_size),\n",
    "        tokenizer=RegexpTokenizer(r\"\\w+\").tokenize, lowercase=True)\n",
    "    vect.fit(sentences)\n",
    "    # ngrams = vect.get_feature_names_out()\n",
    "    # print('{1}-grams: {0}'.format(ngrams, ngram_size))\n",
    "    #print(vect.vocabulary_)\n",
    "    return vect # list of text documents\n",
    "\n",
    "def xml_to_sections(xml_path: str):\n",
    "    \"\"\"\n",
    "    Parses the xml file into sections \n",
    "    \"\"\"\n",
    "    try:\n",
    "        billTree = etree.parse(xml_path)\n",
    "    except:\n",
    "        raise Exception('Could not parse bill')\n",
    "    sections = billTree.xpath('//uslm:section', namespaces=NAMESPACES)\n",
    "    if len(sections) == 0:\n",
    "        print('No sections found')\n",
    "        return []\n",
    "    return [{\n",
    "            'section_number': getEnum(section) ,\n",
    "            'section_header':  getHeader(section),\n",
    "            'section_text': etree.tostring(section, method=\"text\", encoding=\"unicode\"),\n",
    "            'section_xml': etree.tostring(section, method=\"xml\", encoding=\"unicode\")\n",
    "        } if (section.xpath('header') and len(section.xpath('header')) > 0  and section.xpath('enum') and len(section.xpath('enum'))>0) else\n",
    "        {\n",
    "            'section_number': '',\n",
    "            'section_header': '', \n",
    "            'section_text': etree.tostring(section, method=\"text\", encoding=\"unicode\"),\n",
    "            'section_xml': etree.tostring(section, method=\"xml\", encoding=\"unicode\")\n",
    "        } \n",
    "        for section in sections ]\n",
    "\n",
    "def xml_to_text(xml_path: str, level: str = 'section', separator: str = '\\n*****\\n') -> str:\n",
    "    \"\"\"\n",
    "    Parses the xml file and returns the text of the body element, if any\n",
    "    \"\"\"\n",
    "    try:\n",
    "        billTree = etree.parse(xml_path)\n",
    "    except:\n",
    "        raise Exception('Could not parse bill')\n",
    "    #return etree.tostring(billTree, method=\"text\", encoding=\"unicode\")\n",
    "    # Use 'body' for level to get the whole body element\n",
    "    sections = billTree.xpath('//uslm:'+level, namespaces=NAMESPACES)\n",
    "    if len(sections) == 0:\n",
    "        print('No sections found')\n",
    "        return '' \n",
    "    return separator.join([etree.tostring(section, method=\"text\", encoding=\"unicode\") for section in sections])\n",
    "\n",
    "def xml_to_vect(xml_paths: List[str], ngram_size: int = 4):\n",
    "    \"\"\"\n",
    "    Parses the xml file and returns the text of the body element, if any\n",
    "    \"\"\"\n",
    "    total_str = '\\n'.join([xml_to_text(xml_path) for xml_path in xml_paths])\n",
    "    return text_to_vect(total_str, ngram_size=ngram_size)\n",
    "\n",
    "    # to get the vocab dict: vect.vocabulary_\n",
    "\n",
    "def combine_vocabs(vocabs: List[CountVectorizer]):\n",
    "    \"\"\"\n",
    "    Combines one or more vocabs into one\n",
    "    \"\"\"\n",
    "    vocab_keys = list(set([list(v.vocabulary_.keys()) for v in vocabs]))\n",
    "    vocab = {vocab_key: str(i) for i, vocab_key in enumerate(vocab_keys)}\n",
    "    return vocab\n",
    "\n",
    "def get_combined_vocabs(xml_paths: List[str] = SAMPLE_BILL_PATHS, ngram_size: int = 4):\n",
    "    \"\"\"\n",
    "    Gets the combined vocabulary of all the xml files\n",
    "    \"\"\"\n",
    "    return xml_to_vect(xml_paths, ngram_size=ngram_size)\n",
    "\n",
    "def getSampleText(level = 'body'):\n",
    "    return xml_to_text(BIG_BILLS_PATHS[0])\n",
    "\n",
    "def transform_text(text: str, vocab: dict, ngram_size: int = 4):\n",
    "    \"\"\"\n",
    "    Transforms text into a vector using the vocab\n",
    "    \"\"\"\n",
    "    return CountVectorizer(vocabulary=vocab).fit_transform([text])\n",
    "\n",
    "def train_count_vectorizer(train_data: List[str], ngram_size: int = 4):\n",
    "    \"\"\"\n",
    "    Trains a count vectorizer on the training data\n",
    "    \"\"\"\n",
    "    vectorizer = CountVectorizer(ngram_range=(ngram_size,ngram_size), preprocessor=xml_to_text, tokenizer=RegexpTokenizer(r\"\\w+\").tokenize, lowercase=True)\n",
    "    with ExitStack() as stack:\n",
    "        files = [\n",
    "            stack.enter_context(open(filename))\n",
    "            for filename in train_data \n",
    "        ]\n",
    "        X = vectorizer.fit_transform(files)\n",
    "    return vectorizer, X \n",
    "\n",
    "def train_hashing_vectorizer(train_data: List[str], ngram_size: int = 4):\n",
    "    \"\"\"\n",
    "    Trains a hashing vectorizer on the training data\n",
    "    \"\"\"\n",
    "    vectorizer = HashingVectorizer(ngram_range=(ngram_size,ngram_size), preprocessor=xml_to_text, tokenizer=RegexpTokenizer(r\"\\w+\").tokenize, lowercase=True)\n",
    "    with ExitStack() as stack:\n",
    "        files = [\n",
    "            stack.enter_context(open(filename))\n",
    "            for filename in train_data \n",
    "        ]\n",
    "        X = vectorizer.fit_transform(files)\n",
    "    return vectorizer, X\n",
    "\n",
    "def test_hashing_vectorizer(vectorizer: HashingVectorizer, test_data: List[str]):\n",
    "    return vectorizer.transform(test_data)\n",
    "\n",
    "def xml_samples_to_text(dirpath: str, level: str = 'section', separator: str = '\\n*****\\n'):\n",
    "    \"\"\"\n",
    "    Converts xml files in a directory to txt files\n",
    "    \"\"\"\n",
    "    xfiles = get_filepaths(dirpath)\n",
    "    for xfile in xfiles:\n",
    "        with open(xfile.replace('.xml', f'-{level}s.txt'), 'w') as f:\n",
    "            f.write(xml_to_text(xfile, level=level, separator=separator))\n",
    "\n",
    "# TODO: Add a function to parse the bill (text) into paragraphs \n",
    "\n",
    "# TODO: create a streaming hash vectorizer. See \n",
    "# https://scikit-learn.org/stable/auto_examples/applications/plot_out_of_core_classification.html#sphx-glr-auto-examples-applications-plot-out-of-core-classification-py"
   ]
  },
  {
   "cell_type": "markdown",
   "metadata": {},
   "source": [
    "# Utility Functions"
   ]
  },
  {
   "cell_type": "markdown",
   "metadata": {},
   "source": [
    "## 1. Text Cleaning"
   ]
  },
  {
   "cell_type": "code",
   "execution_count": 2,
   "metadata": {},
   "outputs": [],
   "source": [
    "#clean text \n",
    "def text_cleaning(text):\n",
    "    text = str(text).lower()\n",
    "    text = re.sub('\\[.*?\\]', '', text)\n",
    "    text = re.sub('https?://\\S+|www\\.\\S+', '', text)\n",
    "    text = re.sub('<.*?>+', '', text)\n",
    "    text = re.sub('[%s]' % re.escape(string.punctuation), '', text)\n",
    "    text = re.sub('\\n', '', text)\n",
    "    text = re.sub('\\w*\\d\\w*', '', text)\n",
    "    return text"
   ]
  },
  {
   "cell_type": "markdown",
   "metadata": {},
   "source": [
    "##  2. Transform Document into vectorized space"
   ]
  },
  {
   "cell_type": "code",
   "execution_count": 3,
   "metadata": {},
   "outputs": [],
   "source": [
    "#transform document into vectorized space\n",
    "def document_count_vectorized_transformation(document, doc_count_vectorizer):\n",
    "    \n",
    "    doc_vectorized = doc_count_vectorizer.transform([document])\n",
    "    return doc_vectorized\n",
    "\n",
    "def section_doc_count_vectorized_transformation(section_doc, sec_count_vectorizer):\n",
    "    \n",
    "    section_doc_vectorized = sec_count_vectorizer.transform(section_doc)\n",
    "    return section_doc_vectorized\n"
   ]
  },
  {
   "cell_type": "markdown",
   "metadata": {},
   "source": [
    "## 3. Calculate Cosine Similarity"
   ]
  },
  {
   "cell_type": "code",
   "execution_count": 4,
   "metadata": {},
   "outputs": [],
   "source": [
    "# compute cosine pairwise similarity\n",
    "def cosine_pairwise_sim(a_vectorized, b_vectorized):\n",
    "    \n",
    "    #record time for computing similarity \n",
    "    start = time.time()\n",
    "\n",
    "    sim_score =  cosine_similarity(a_vectorized, b_vectorized)\n",
    "\n",
    "    done = time.time()\n",
    "    elapsed = done - start\n",
    "    return elapsed, sim_score"
   ]
  },
  {
   "cell_type": "markdown",
   "metadata": {},
   "source": [
    "## 4. Create list reponse"
   ]
  },
  {
   "cell_type": "code",
   "execution_count": 5,
   "metadata": {},
   "outputs": [],
   "source": [
    "#create list response\n",
    "def create_list_response(A_doc_name, B_doc_name, doc_sim_score, sec_doc_sim_score):\n",
    "    \n",
    "    #record time for creating list response\n",
    "    start = time.time()\n",
    "    \n",
    "    #create result list\n",
    "    res_list = []\n",
    "\n",
    "    #create empty list\n",
    "    temp=[]\n",
    "    temp.append(\"ORIGINAL DOCUMENT ID: \" + A_doc_name)\n",
    "    temp.append(\"MATCHED DOCUMENT ID: \" + B_doc_name)\n",
    "    temp.append(\"DOCUMENT SIMILARITY SCORE: \" + str(doc_sim_score[0][0]))\n",
    "\n",
    "    #iterate over sec_doc_sim_score list \n",
    "    for i, section_score_list in enumerate(sec_doc_sim_score):\n",
    "        \n",
    "        #add original document sentence id number\n",
    "        temp.append(\"ORIGINAL SENTENCE ID: \" + str(i+1))\n",
    "           \n",
    "        #sort similarity score of sections list\n",
    "        section_score_list = list(enumerate(section_score_list))\n",
    "        sorted_section_score_list = sorted(section_score_list, key=lambda x: x[1], reverse=True)\n",
    "        \n",
    "        #iterate over section level score only \n",
    "        for j, sim_score in sorted_section_score_list:\n",
    "            temp.append({\"MATCHED DOCUMENT ID\":  B_doc_name, \"MATCHED SENTENCE ID\": j+1 , \"SENTENCE SIMILARITY SCORE\":  sim_score})\n",
    "\n",
    "    res_list.append(temp)\n",
    "    \n",
    "    \n",
    "    done = time.time()\n",
    "    elapsed = done - start\n",
    "    \n",
    "    return elapsed, res_list\n",
    "\n",
    "    "
   ]
  },
  {
   "cell_type": "markdown",
   "metadata": {},
   "source": [
    "## 5. Get Files by Size"
   ]
  },
  {
   "cell_type": "code",
   "execution_count": 6,
   "metadata": {},
   "outputs": [],
   "source": [
    "#get files by size\n",
    "def get_files_by_size(to_kb_size, from_kb_size, dir_path):\n",
    "    \"\"\" Returns a list of files that are the size provided \"\"\"\n",
    "    result = []\n",
    "    \n",
    "    #convert kb into bytes\n",
    "    to_bytes_size = to_kb_size * 1024\n",
    "    from_bytes_size = from_kb_size * 1024\n",
    "\n",
    "    for root, dirs, files in os.walk(dir_path):\n",
    "        for file in files:\n",
    "            path = os.path.join(root, file)\n",
    "            \n",
    "            file_bytes_size = os.path.getsize(path)\n",
    "\n",
    "            if (file_bytes_size > to_bytes_size) and (file_bytes_size < from_bytes_size):\n",
    "                result.append(path)\n",
    "    return result"
   ]
  },
  {
   "cell_type": "markdown",
   "metadata": {},
   "source": [
    "# Load Data Corpuses from Disk"
   ]
  },
  {
   "cell_type": "code",
   "execution_count": 7,
   "metadata": {},
   "outputs": [],
   "source": [
    "# load doc_corpus_data\n",
    "doc_corpus_data = pickle.load(open(\"cv_doc_corpus_data.pickel\", \"rb\"))\n",
    "\n",
    "# load section_corpus_data\n",
    "section_corpus_data = pickle.load(open(\"cv_section_corpus_data.pickel\", \"rb\"))\n",
    "\n",
    "\n",
    "\n",
    "#get only whole document content from doc_corpus_data list\n",
    "only_doc_data = [row[1] for row in doc_corpus_data]\n",
    "\n",
    "#get only section content from section_corpus_data list\n",
    "only_section_data = [row[2] for row in section_corpus_data]\n"
   ]
  },
  {
   "cell_type": "code",
   "execution_count": null,
   "metadata": {},
   "outputs": [],
   "source": []
  },
  {
   "cell_type": "markdown",
   "metadata": {},
   "source": [
    "# Load NLP Count Vectorizer Models"
   ]
  },
  {
   "cell_type": "code",
   "execution_count": 8,
   "metadata": {},
   "outputs": [],
   "source": [
    "# load count vectorize instance for only_doc_data\n",
    "doc_count_vectorizer = pickle.load(open(\"doc_count_vectorizer.pickel\", \"rb\"))\n",
    "\n",
    "# load count vectorize instance for only_section_data\n",
    "sec_count_vectorizer = pickle.load(open(\"sec_count_vectorizer.pickel\", \"rb\"))"
   ]
  },
  {
   "cell_type": "code",
   "execution_count": null,
   "metadata": {},
   "outputs": [],
   "source": []
  },
  {
   "cell_type": "markdown",
   "metadata": {},
   "source": [
    "# Test Sample Document"
   ]
  },
  {
   "cell_type": "markdown",
   "metadata": {},
   "source": [
    "## Get Document and Sections Text from  Corpus Data\n"
   ]
  },
  {
   "cell_type": "code",
   "execution_count": 9,
   "metadata": {},
   "outputs": [],
   "source": [
    "#pick any Document A & any Document B from data lists (at least that have more than 1 section)\n",
    "A_doc_name = 'BILLS-117hr1319enr'\n",
    "B_doc_name = 'BILLS-117hr1319eh'\n",
    "\n",
    "A_doc = [i[1] for i in doc_corpus_data if A_doc_name ==i[0]][0]\n",
    "B_doc = [i[1] for i in doc_corpus_data if B_doc_name ==i[0]][0]\n",
    "\n",
    "A_section_doc = [i[2] for i in section_corpus_data if A_doc_name ==i[0]]\n",
    "B_section_doc = [i[2] for i in section_corpus_data if B_doc_name ==i[0]]"
   ]
  },
  {
   "cell_type": "markdown",
   "metadata": {},
   "source": [
    "## Transfomation documents into Vectorization"
   ]
  },
  {
   "cell_type": "code",
   "execution_count": 10,
   "metadata": {},
   "outputs": [],
   "source": [
    "#transform document A content and document B content\n",
    "A_doc_vectorized = document_count_vectorized_transformation(A_doc, doc_count_vectorizer)\n",
    "B_doc_vectorized = document_count_vectorized_transformation(B_doc, doc_count_vectorizer)\n",
    "\n",
    "#transform document A section content and  document B section content\n",
    "A_section_doc_vectorized = section_doc_count_vectorized_transformation(A_section_doc, sec_count_vectorizer)\n",
    "B_section_doc_vectorized = section_doc_count_vectorized_transformation(B_section_doc, sec_count_vectorizer)"
   ]
  },
  {
   "cell_type": "markdown",
   "metadata": {},
   "source": [
    "## Measure Document Similarity Score of any Document A to any Document B"
   ]
  },
  {
   "cell_type": "code",
   "execution_count": 11,
   "metadata": {},
   "outputs": [],
   "source": [
    "elapsed_1, doc_sim_score = cosine_pairwise_sim(A_doc_vectorized, B_doc_vectorized)"
   ]
  },
  {
   "cell_type": "code",
   "execution_count": 12,
   "metadata": {},
   "outputs": [
    {
     "data": {
      "text/plain": [
       "0.1511073112487793"
      ]
     },
     "execution_count": 12,
     "metadata": {},
     "output_type": "execute_result"
    }
   ],
   "source": [
    "elapsed_1"
   ]
  },
  {
   "cell_type": "markdown",
   "metadata": {},
   "source": [
    "## Measure Pairwise similraity between Sections of Document A & Sections of Document B"
   ]
  },
  {
   "cell_type": "code",
   "execution_count": 13,
   "metadata": {},
   "outputs": [],
   "source": [
    "elapsed_2, sec_doc_sim_score = cosine_pairwise_sim(A_section_doc_vectorized, B_section_doc_vectorized)"
   ]
  },
  {
   "cell_type": "code",
   "execution_count": 14,
   "metadata": {},
   "outputs": [
    {
     "data": {
      "text/plain": [
       "0.11007976531982422"
      ]
     },
     "execution_count": 14,
     "metadata": {},
     "output_type": "execute_result"
    }
   ],
   "source": [
    "elapsed_2"
   ]
  },
  {
   "cell_type": "markdown",
   "metadata": {},
   "source": [
    "## Rendering results of similarity b/w Document A & Document B and their Sections"
   ]
  },
  {
   "cell_type": "code",
   "execution_count": 15,
   "metadata": {},
   "outputs": [],
   "source": [
    "#get result list response of newly computed similarity score of document A and document B\n",
    "elapsed_3, response = create_list_response(A_doc_name, B_doc_name, doc_sim_score, sec_doc_sim_score)\n"
   ]
  },
  {
   "cell_type": "code",
   "execution_count": 16,
   "metadata": {},
   "outputs": [
    {
     "data": {
      "text/plain": [
       "16.350512981414795"
      ]
     },
     "execution_count": 16,
     "metadata": {},
     "output_type": "execute_result"
    }
   ],
   "source": [
    "elapsed_3"
   ]
  },
  {
   "cell_type": "code",
   "execution_count": 17,
   "metadata": {},
   "outputs": [],
   "source": [
    "#calculate total time of calculating cosine similarity and creating result response\n",
    "total_elapsed_time = elapsed_1 + elapsed_2 + elapsed_3"
   ]
  },
  {
   "cell_type": "code",
   "execution_count": 18,
   "metadata": {},
   "outputs": [
    {
     "data": {
      "text/plain": [
       "16.6117000579834"
      ]
     },
     "execution_count": 18,
     "metadata": {},
     "output_type": "execute_result"
    }
   ],
   "source": [
    "total_elapsed_time"
   ]
  },
  {
   "cell_type": "markdown",
   "metadata": {},
   "source": [
    "#  Case Testing"
   ]
  },
  {
   "cell_type": "code",
   "execution_count": 19,
   "metadata": {},
   "outputs": [],
   "source": [
    "#create stats_time_size_analysis\n",
    "stats_time_size_analysis=[]"
   ]
  },
  {
   "cell_type": "markdown",
   "metadata": {},
   "source": [
    "## Case # 01"
   ]
  },
  {
   "cell_type": "code",
   "execution_count": 20,
   "metadata": {},
   "outputs": [
    {
     "name": "stdout",
     "output_type": "stream",
     "text": [
      "['data/samples/congress/117/uslm\\\\BILLS-117hconres10eh.xml', 'data/samples/congress/117/uslm\\\\BILLS-117hconres10enr.xml', 'data/samples/congress/117/uslm\\\\BILLS-117hconres10rds.xml', 'data/samples/congress/117/uslm\\\\BILLS-117hconres12ih.xml', 'data/samples/congress/117/uslm\\\\BILLS-117hconres15ih.xml']\n"
     ]
    }
   ],
   "source": [
    "#get file size by size ranges of files\n",
    "print((get_files_by_size(1, 10, PATH_117_USLM)) [:5])\n",
    "\n",
    "\n",
    "#create temp list\n",
    "temp=[]\n",
    "\n",
    "#append avg size\n",
    "temp.append(int((1+10)/2))"
   ]
  },
  {
   "cell_type": "code",
   "execution_count": 21,
   "metadata": {},
   "outputs": [
    {
     "name": "stdout",
     "output_type": "stream",
     "text": [
      "0.06604623794555664 [[1.]]\n",
      "0.06404519081115723\n",
      "0.001001119613647461\n",
      "0.13109254837036133\n"
     ]
    }
   ],
   "source": [
    "#pick any Document A & any Document B from data lists (at least that have more than 1 section)\n",
    "A_doc_name = 'BILLS-117hconres10eh'\n",
    "B_doc_name = 'BILLS-117hconres10enr'\n",
    "\n",
    "\n",
    "#get documents by file name\n",
    "A_doc = [i[1] for i in doc_corpus_data if A_doc_name ==i[0]][0]\n",
    "B_doc = [i[1] for i in doc_corpus_data if B_doc_name ==i[0]][0]\n",
    "\n",
    "A_section_doc = [i[2] for i in section_corpus_data if A_doc_name ==i[0]]\n",
    "B_section_doc = [i[2] for i in section_corpus_data if B_doc_name ==i[0]]\n",
    "\n",
    "\n",
    "#transform document A content and document B content\n",
    "A_doc_vectorized = document_count_vectorized_transformation(A_doc, doc_count_vectorizer)\n",
    "B_doc_vectorized = document_count_vectorized_transformation(B_doc, doc_count_vectorizer)\n",
    "\n",
    "#transform document A section content and  document B section content\n",
    "A_section_doc_vectorized = section_doc_count_vectorized_transformation(A_section_doc, sec_count_vectorizer)\n",
    "B_section_doc_vectorized = section_doc_count_vectorized_transformation(B_section_doc, sec_count_vectorizer)\n",
    "\n",
    "\n",
    "#calculate pairwise similarity \n",
    "elapsed_1, doc_sim_score = cosine_pairwise_sim(A_doc_vectorized, B_doc_vectorized)\n",
    "elapsed_2, sec_doc_sim_score = cosine_pairwise_sim(A_section_doc_vectorized, B_section_doc_vectorized)\n",
    "elapsed_3, response = create_list_response(A_doc_name, B_doc_name, doc_sim_score, sec_doc_sim_score)\n",
    "\n",
    "total_elapsed_time = elapsed_1 + elapsed_2 + elapsed_3\n",
    "\n",
    "#append total_elapsed_time\n",
    "temp.append(total_elapsed_time)\n",
    "\n",
    "#append temp list into stats_time_size_analysis\n",
    "stats_time_size_analysis.append(temp)\n",
    "\n",
    "print(elapsed_1, doc_sim_score)\n",
    "print(elapsed_2)\n",
    "print(elapsed_3)\n",
    "\n",
    "print(total_elapsed_time)\n"
   ]
  },
  {
   "cell_type": "code",
   "execution_count": null,
   "metadata": {},
   "outputs": [],
   "source": []
  },
  {
   "cell_type": "markdown",
   "metadata": {},
   "source": [
    "## Case # 02"
   ]
  },
  {
   "cell_type": "code",
   "execution_count": 22,
   "metadata": {},
   "outputs": [
    {
     "name": "stdout",
     "output_type": "stream",
     "text": [
      "['data/samples/congress/117/uslm\\\\BILLS-117hr1069ih.xml', 'data/samples/congress/117/uslm\\\\BILLS-117hr1075ih.xml', 'data/samples/congress/117/uslm\\\\BILLS-117hr1079eh.xml', 'data/samples/congress/117/uslm\\\\BILLS-117hr1079ih.xml', 'data/samples/congress/117/uslm\\\\BILLS-117hr1079rfs.xml', 'data/samples/congress/117/uslm\\\\BILLS-117hr1083eh.xml', 'data/samples/congress/117/uslm\\\\BILLS-117hr1083ih.xml', 'data/samples/congress/117/uslm\\\\BILLS-117hr1083rfs.xml', 'data/samples/congress/117/uslm\\\\BILLS-117hr1085ih.xml', 'data/samples/congress/117/uslm\\\\BILLS-117hr1087ih.xml', 'data/samples/congress/117/uslm\\\\BILLS-117hr1087rh.xml', 'data/samples/congress/117/uslm\\\\BILLS-117hr1090ih.xml', 'data/samples/congress/117/uslm\\\\BILLS-117hr1093ih.xml', 'data/samples/congress/117/uslm\\\\BILLS-117hr1097ih.xml', 'data/samples/congress/117/uslm\\\\BILLS-117hr109ih.xml', 'data/samples/congress/117/uslm\\\\BILLS-117hr1106ih.xml', 'data/samples/congress/117/uslm\\\\BILLS-117hr1109ih.xml', 'data/samples/congress/117/uslm\\\\BILLS-117hr1110ih.xml', 'data/samples/congress/117/uslm\\\\BILLS-117hr1116ih.xml', 'data/samples/congress/117/uslm\\\\BILLS-117hr1124ih.xml', 'data/samples/congress/117/uslm\\\\BILLS-117hr1136ih.xml', 'data/samples/congress/117/uslm\\\\BILLS-117hr113ih.xml', 'data/samples/congress/117/uslm\\\\BILLS-117hr1146ih.xml', 'data/samples/congress/117/uslm\\\\BILLS-117hr1149ih.xml', 'data/samples/congress/117/uslm\\\\BILLS-117hr1151ih.xml', 'data/samples/congress/117/uslm\\\\BILLS-117hr1154rh.xml', 'data/samples/congress/117/uslm\\\\BILLS-117hr1159ih.xml', 'data/samples/congress/117/uslm\\\\BILLS-117hr116ih.xml', 'data/samples/congress/117/uslm\\\\BILLS-117hr1176ih.xml', 'data/samples/congress/117/uslm\\\\BILLS-117hr1179ih.xml']\n"
     ]
    }
   ],
   "source": [
    "#get file size by size ranges of files\n",
    "print(sorted(get_files_by_size(11, 20, PATH_117_USLM)) [20:50])\n",
    "\n",
    "\n",
    "#create temp list\n",
    "temp=[]\n",
    "\n",
    "#append avg size\n",
    "temp.append(int((11+20)/2))\n"
   ]
  },
  {
   "cell_type": "code",
   "execution_count": 23,
   "metadata": {},
   "outputs": [
    {
     "name": "stdout",
     "output_type": "stream",
     "text": [
      "0.10107254981994629 [[0.98933897]]\n",
      "0.07405352592468262\n",
      "0.0\n",
      "0.1751260757446289\n"
     ]
    }
   ],
   "source": [
    "#pick any Document A & any Document B from data lists (at least that have more than 1 section)\n",
    "A_doc_name = 'BILLS-117hr1079eh'\n",
    "B_doc_name = 'BILLS-117hr1079ih'\n",
    "\n",
    "#get documents by file name\n",
    "A_doc = [i[1] for i in doc_corpus_data if A_doc_name ==i[0]][0]\n",
    "B_doc = [i[1] for i in doc_corpus_data if B_doc_name ==i[0]][0]\n",
    "\n",
    "A_section_doc = [i[2] for i in section_corpus_data if A_doc_name ==i[0]]\n",
    "B_section_doc = [i[2] for i in section_corpus_data if B_doc_name ==i[0]]\n",
    "\n",
    "\n",
    "#transform document A content and document B content\n",
    "A_doc_vectorized = document_count_vectorized_transformation(A_doc, doc_count_vectorizer)\n",
    "B_doc_vectorized = document_count_vectorized_transformation(B_doc, doc_count_vectorizer)\n",
    "\n",
    "#transform document A section content and  document B section content\n",
    "A_section_doc_vectorized = section_doc_count_vectorized_transformation(A_section_doc, sec_count_vectorizer)\n",
    "B_section_doc_vectorized = section_doc_count_vectorized_transformation(B_section_doc, sec_count_vectorizer)\n",
    "\n",
    "\n",
    "#calculate pairwise similarity \n",
    "elapsed_1, doc_sim_score = cosine_pairwise_sim(A_doc_vectorized, B_doc_vectorized)\n",
    "elapsed_2, sec_doc_sim_score = cosine_pairwise_sim(A_section_doc_vectorized, B_section_doc_vectorized)\n",
    "elapsed_3, response = create_list_response(A_doc_name, B_doc_name, doc_sim_score, sec_doc_sim_score)\n",
    "\n",
    "total_elapsed_time = elapsed_1 + elapsed_2 + elapsed_3\n",
    "\n",
    "#append total_elapsed_time\n",
    "temp.append(total_elapsed_time)\n",
    "\n",
    "#append temp list into stats_time_size_analysis\n",
    "stats_time_size_analysis.append(temp)\n",
    "\n",
    "print(elapsed_1, doc_sim_score)\n",
    "print(elapsed_2)\n",
    "print(elapsed_3)\n",
    "\n",
    "print(total_elapsed_time)\n"
   ]
  },
  {
   "cell_type": "markdown",
   "metadata": {},
   "source": [
    "## Case # 03"
   ]
  },
  {
   "cell_type": "code",
   "execution_count": 24,
   "metadata": {},
   "outputs": [
    {
     "name": "stdout",
     "output_type": "stream",
     "text": [
      "['data/samples/congress/117/uslm\\\\BILLS-117hr1006ih.xml', 'data/samples/congress/117/uslm\\\\BILLS-117hr1037ih.xml', 'data/samples/congress/117/uslm\\\\BILLS-117hr1047ih.xml', 'data/samples/congress/117/uslm\\\\BILLS-117hr1051ih.xml', 'data/samples/congress/117/uslm\\\\BILLS-117hr1060ih.xml', 'data/samples/congress/117/uslm\\\\BILLS-117hr1064ih.xml', 'data/samples/congress/117/uslm\\\\BILLS-117hr1065eh.xml', 'data/samples/congress/117/uslm\\\\BILLS-117hr1065ih.xml', 'data/samples/congress/117/uslm\\\\BILLS-117hr1065rfs.xml', 'data/samples/congress/117/uslm\\\\BILLS-117hr1077ih.xml', 'data/samples/congress/117/uslm\\\\BILLS-117hr1078ih.xml', 'data/samples/congress/117/uslm\\\\BILLS-117hr1091ih.xml', 'data/samples/congress/117/uslm\\\\BILLS-117hr1096ih.xml', 'data/samples/congress/117/uslm\\\\BILLS-117hr1100ih.xml', 'data/samples/congress/117/uslm\\\\BILLS-117hr1126ih.xml', 'data/samples/congress/117/uslm\\\\BILLS-117hr1131ih.xml', 'data/samples/congress/117/uslm\\\\BILLS-117hr1134ih.xml', 'data/samples/congress/117/uslm\\\\BILLS-117hr1135ih.xml', 'data/samples/congress/117/uslm\\\\BILLS-117hr1142ih.xml', 'data/samples/congress/117/uslm\\\\BILLS-117hr1160ih.xml']\n"
     ]
    }
   ],
   "source": [
    "\n",
    "#get file size by size ranges of files\n",
    "print(sorted(get_files_by_size(21, 30, PATH_117_USLM)) [0:20])\n",
    "\n",
    "\n",
    "#create temp list\n",
    "temp=[]\n",
    "\n",
    "#append avg size\n",
    "temp.append(int((21+30)/2))\n"
   ]
  },
  {
   "cell_type": "code",
   "execution_count": 25,
   "metadata": {},
   "outputs": [
    {
     "name": "stdout",
     "output_type": "stream",
     "text": [
      "0.2301626205444336 [[1.]]\n",
      "0.14010000228881836\n",
      "0.0\n",
      "0.37026262283325195\n"
     ]
    }
   ],
   "source": [
    "#pick any Document A & any Document B from data lists (at least that have more than 1 section)\n",
    "A_doc_name = 'BILLS-117hr1065eh'\n",
    "B_doc_name = 'BILLS-117hr1065ih'\n",
    "\n",
    "#get documents by file name\n",
    "A_doc = [i[1] for i in doc_corpus_data if A_doc_name ==i[0]][0]\n",
    "B_doc = [i[1] for i in doc_corpus_data if B_doc_name ==i[0]][0]\n",
    "\n",
    "A_section_doc = [i[2] for i in section_corpus_data if A_doc_name ==i[0]]\n",
    "B_section_doc = [i[2] for i in section_corpus_data if B_doc_name ==i[0]]\n",
    "\n",
    "\n",
    "#transform document A content and document B content\n",
    "A_doc_vectorized = document_count_vectorized_transformation(A_doc, doc_count_vectorizer)\n",
    "B_doc_vectorized = document_count_vectorized_transformation(B_doc, doc_count_vectorizer)\n",
    "\n",
    "#transform document A section content and  document B section content\n",
    "A_section_doc_vectorized = section_doc_count_vectorized_transformation(A_section_doc, sec_count_vectorizer)\n",
    "B_section_doc_vectorized = section_doc_count_vectorized_transformation(B_section_doc, sec_count_vectorizer)\n",
    "\n",
    "\n",
    "#calculate pairwise similarity \n",
    "elapsed_1, doc_sim_score = cosine_pairwise_sim(A_doc_vectorized, B_doc_vectorized)\n",
    "elapsed_2, sec_doc_sim_score = cosine_pairwise_sim(A_section_doc_vectorized, B_section_doc_vectorized)\n",
    "elapsed_3, response = create_list_response(A_doc_name, B_doc_name, doc_sim_score, sec_doc_sim_score)\n",
    "\n",
    "total_elapsed_time = elapsed_1 + elapsed_2 + elapsed_3\n",
    "\n",
    "#append total_elapsed_time\n",
    "temp.append(total_elapsed_time)\n",
    "\n",
    "#append temp list into stats_time_size_analysis\n",
    "stats_time_size_analysis.append(temp)\n",
    "\n",
    "print(elapsed_1, doc_sim_score)\n",
    "print(elapsed_2)\n",
    "print(elapsed_3)\n",
    "\n",
    "print(total_elapsed_time)\n"
   ]
  },
  {
   "cell_type": "markdown",
   "metadata": {},
   "source": [
    "## Case # 04"
   ]
  },
  {
   "cell_type": "code",
   "execution_count": 26,
   "metadata": {
    "scrolled": false
   },
   "outputs": [
    {
     "name": "stdout",
     "output_type": "stream",
     "text": [
      "['data/samples/congress/117/uslm\\\\BILLS-117hr1008ih.xml', 'data/samples/congress/117/uslm\\\\BILLS-117hr1030ih.xml', 'data/samples/congress/117/uslm\\\\BILLS-117hr1040ih.xml', 'data/samples/congress/117/uslm\\\\BILLS-117hr1054ih.xml', 'data/samples/congress/117/uslm\\\\BILLS-117hr1065rh.xml', 'data/samples/congress/117/uslm\\\\BILLS-117hr1080ih.xml', 'data/samples/congress/117/uslm\\\\BILLS-117hr1082ih.xml', 'data/samples/congress/117/uslm\\\\BILLS-117hr111ih.xml', 'data/samples/congress/117/uslm\\\\BILLS-117hr1163ih.xml', 'data/samples/congress/117/uslm\\\\BILLS-117hr1182ih.xml', 'data/samples/congress/117/uslm\\\\BILLS-117hr1183ih.xml', 'data/samples/congress/117/uslm\\\\BILLS-117hr1197ih.xml', 'data/samples/congress/117/uslm\\\\BILLS-117hr1201ih.xml', 'data/samples/congress/117/uslm\\\\BILLS-117hr1221ih.xml', 'data/samples/congress/117/uslm\\\\BILLS-117hr1225ih.xml', 'data/samples/congress/117/uslm\\\\BILLS-117hr1234ih.xml', 'data/samples/congress/117/uslm\\\\BILLS-117hr1242ih.xml', 'data/samples/congress/117/uslm\\\\BILLS-117hr1252ih.xml', 'data/samples/congress/117/uslm\\\\BILLS-117hr1258ih.xml', 'data/samples/congress/117/uslm\\\\BILLS-117hr127ih.xml', 'data/samples/congress/117/uslm\\\\BILLS-117hr1286ih.xml', 'data/samples/congress/117/uslm\\\\BILLS-117hr1289ih.xml', 'data/samples/congress/117/uslm\\\\BILLS-117hr1313ih.xml', 'data/samples/congress/117/uslm\\\\BILLS-117hr1316ih.xml', 'data/samples/congress/117/uslm\\\\BILLS-117hr131ih.xml', 'data/samples/congress/117/uslm\\\\BILLS-117hr1344ih.xml', 'data/samples/congress/117/uslm\\\\BILLS-117hr1346ih.xml', 'data/samples/congress/117/uslm\\\\BILLS-117hr1350ih.xml', 'data/samples/congress/117/uslm\\\\BILLS-117hr1352ih.xml', 'data/samples/congress/117/uslm\\\\BILLS-117hr1353ih.xml', 'data/samples/congress/117/uslm\\\\BILLS-117hr1360ih.xml', 'data/samples/congress/117/uslm\\\\BILLS-117hr1370ih.xml', 'data/samples/congress/117/uslm\\\\BILLS-117hr1385ih.xml', 'data/samples/congress/117/uslm\\\\BILLS-117hr1410ih.xml', 'data/samples/congress/117/uslm\\\\BILLS-117hr1414ih.xml', 'data/samples/congress/117/uslm\\\\BILLS-117hr1418ih.xml', 'data/samples/congress/117/uslm\\\\BILLS-117hr1424ih.xml', 'data/samples/congress/117/uslm\\\\BILLS-117hr1435ih.xml', 'data/samples/congress/117/uslm\\\\BILLS-117hr1449ih.xml', 'data/samples/congress/117/uslm\\\\BILLS-117hr1450ih.xml', 'data/samples/congress/117/uslm\\\\BILLS-117hr1458ih.xml', 'data/samples/congress/117/uslm\\\\BILLS-117hr1459ih.xml', 'data/samples/congress/117/uslm\\\\BILLS-117hr1480eh.xml', 'data/samples/congress/117/uslm\\\\BILLS-117hr1485ih.xml', 'data/samples/congress/117/uslm\\\\BILLS-117hr1490eh.xml', 'data/samples/congress/117/uslm\\\\BILLS-117hr1490ih.xml', 'data/samples/congress/117/uslm\\\\BILLS-117hr1490rfs.xml', 'data/samples/congress/117/uslm\\\\BILLS-117hr1492ih.xml', 'data/samples/congress/117/uslm\\\\BILLS-117hr151ih.xml', 'data/samples/congress/117/uslm\\\\BILLS-117hr1521ih.xml', 'data/samples/congress/117/uslm\\\\BILLS-117hr153ih.xml', 'data/samples/congress/117/uslm\\\\BILLS-117hr154ih.xml', 'data/samples/congress/117/uslm\\\\BILLS-117hr1560ih.xml', 'data/samples/congress/117/uslm\\\\BILLS-117hr156ih.xml', 'data/samples/congress/117/uslm\\\\BILLS-117hr1570ih.xml', 'data/samples/congress/117/uslm\\\\BILLS-117hr1581ih.xml', 'data/samples/congress/117/uslm\\\\BILLS-117hr1592ih.xml', 'data/samples/congress/117/uslm\\\\BILLS-117hr1622ih.xml', 'data/samples/congress/117/uslm\\\\BILLS-117hr1628ih.xml', 'data/samples/congress/117/uslm\\\\BILLS-117hr1669ih.xml', 'data/samples/congress/117/uslm\\\\BILLS-117hr1687ih.xml', 'data/samples/congress/117/uslm\\\\BILLS-117hr1691ih.xml', 'data/samples/congress/117/uslm\\\\BILLS-117hr1696ih.xml', 'data/samples/congress/117/uslm\\\\BILLS-117hr1697ih.xml', 'data/samples/congress/117/uslm\\\\BILLS-117hr1729ih.xml', 'data/samples/congress/117/uslm\\\\BILLS-117hr1730ih.xml', 'data/samples/congress/117/uslm\\\\BILLS-117hr1732ih.xml', 'data/samples/congress/117/uslm\\\\BILLS-117hr1733ih.xml', 'data/samples/congress/117/uslm\\\\BILLS-117hr174ih.xml', 'data/samples/congress/117/uslm\\\\BILLS-117hr1776ih.xml', 'data/samples/congress/117/uslm\\\\BILLS-117hr1819ih.xml', 'data/samples/congress/117/uslm\\\\BILLS-117hr1835ih.xml', 'data/samples/congress/117/uslm\\\\BILLS-117hr1845ih.xml', 'data/samples/congress/117/uslm\\\\BILLS-117hr1863ih.xml', 'data/samples/congress/117/uslm\\\\BILLS-117hr1930ih.xml', 'data/samples/congress/117/uslm\\\\BILLS-117hr1944ih.xml', 'data/samples/congress/117/uslm\\\\BILLS-117hr2010ih.xml', 'data/samples/congress/117/uslm\\\\BILLS-117hr2013ih.xml', 'data/samples/congress/117/uslm\\\\BILLS-117hr2023ih.xml', 'data/samples/congress/117/uslm\\\\BILLS-117hr2024ih.xml', 'data/samples/congress/117/uslm\\\\BILLS-117hr2037ih.xml', 'data/samples/congress/117/uslm\\\\BILLS-117hr2056ih.xml', 'data/samples/congress/117/uslm\\\\BILLS-117hr2058ih.xml', 'data/samples/congress/117/uslm\\\\BILLS-117hr2101ih.xml', 'data/samples/congress/117/uslm\\\\BILLS-117hr2106ih.xml', 'data/samples/congress/117/uslm\\\\BILLS-117hr210eh.xml', 'data/samples/congress/117/uslm\\\\BILLS-117hr210ih.xml', 'data/samples/congress/117/uslm\\\\BILLS-117hr210rfs.xml', 'data/samples/congress/117/uslm\\\\BILLS-117hr2125ih.xml', 'data/samples/congress/117/uslm\\\\BILLS-117hr2139ih.xml', 'data/samples/congress/117/uslm\\\\BILLS-117hr2143ih.xml', 'data/samples/congress/117/uslm\\\\BILLS-117hr2145ih.xml', 'data/samples/congress/117/uslm\\\\BILLS-117hr2148ih.xml', 'data/samples/congress/117/uslm\\\\BILLS-117hr2152ih.xml', 'data/samples/congress/117/uslm\\\\BILLS-117hr2167eh.xml', 'data/samples/congress/117/uslm\\\\BILLS-117hr2167rfs.xml', 'data/samples/congress/117/uslm\\\\BILLS-117hr2167rh.xml', 'data/samples/congress/117/uslm\\\\BILLS-117hr2181ih.xml', 'data/samples/congress/117/uslm\\\\BILLS-117hr2183ih.xml', 'data/samples/congress/117/uslm\\\\BILLS-117hr2184ih.xml', 'data/samples/congress/117/uslm\\\\BILLS-117hr2185ih.xml', 'data/samples/congress/117/uslm\\\\BILLS-117hr2193ih.xml', 'data/samples/congress/117/uslm\\\\BILLS-117hr2201ih.xml', 'data/samples/congress/117/uslm\\\\BILLS-117hr2206ih.xml', 'data/samples/congress/117/uslm\\\\BILLS-117hr2236ih.xml', 'data/samples/congress/117/uslm\\\\BILLS-117hr2243ih.xml', 'data/samples/congress/117/uslm\\\\BILLS-117hr2262ih.xml', 'data/samples/congress/117/uslm\\\\BILLS-117hr2286ih.xml', 'data/samples/congress/117/uslm\\\\BILLS-117hr2298ih.xml', 'data/samples/congress/117/uslm\\\\BILLS-117hr2336ih.xml', 'data/samples/congress/117/uslm\\\\BILLS-117hr2368ih.xml', 'data/samples/congress/117/uslm\\\\BILLS-117hr2372ih.xml', 'data/samples/congress/117/uslm\\\\BILLS-117hr2376ih.xml', 'data/samples/congress/117/uslm\\\\BILLS-117hr2383ih.xml', 'data/samples/congress/117/uslm\\\\BILLS-117hr2418ih.xml', 'data/samples/congress/117/uslm\\\\BILLS-117hr2436ih.xml', 'data/samples/congress/117/uslm\\\\BILLS-117hr2459ih.xml', 'data/samples/congress/117/uslm\\\\BILLS-117hr2462ih.xml', 'data/samples/congress/117/uslm\\\\BILLS-117hr2468ih.xml', 'data/samples/congress/117/uslm\\\\BILLS-117hr2471eh.xml', 'data/samples/congress/117/uslm\\\\BILLS-117hr2485eh.xml', 'data/samples/congress/117/uslm\\\\BILLS-117hr2489ih.xml', 'data/samples/congress/117/uslm\\\\BILLS-117hr2503ih.xml', 'data/samples/congress/117/uslm\\\\BILLS-117hr2514ih.xml', 'data/samples/congress/117/uslm\\\\BILLS-117hr2515ih.xml', 'data/samples/congress/117/uslm\\\\BILLS-117hr2517ih.xml', 'data/samples/congress/117/uslm\\\\BILLS-117hr2523eh.xml', 'data/samples/congress/117/uslm\\\\BILLS-117hr2523enr.xml', 'data/samples/congress/117/uslm\\\\BILLS-117hr2523ih.xml', 'data/samples/congress/117/uslm\\\\BILLS-117hr2523rfs.xml', 'data/samples/congress/117/uslm\\\\BILLS-117hr2528ih.xml', 'data/samples/congress/117/uslm\\\\BILLS-117hr2541ih.xml', 'data/samples/congress/117/uslm\\\\BILLS-117hr2570ih.xml', 'data/samples/congress/117/uslm\\\\BILLS-117hr2570rh.xml', 'data/samples/congress/117/uslm\\\\BILLS-117hr2575ih.xml', 'data/samples/congress/117/uslm\\\\BILLS-117hr2576ih.xml', 'data/samples/congress/117/uslm\\\\BILLS-117hr2586ih.xml', 'data/samples/congress/117/uslm\\\\BILLS-117hr2589ih.xml', 'data/samples/congress/117/uslm\\\\BILLS-117hr2590ih.xml', 'data/samples/congress/117/uslm\\\\BILLS-117hr2593ih.xml', 'data/samples/congress/117/uslm\\\\BILLS-117hr260ih.xml', 'data/samples/congress/117/uslm\\\\BILLS-117hr2618ih.xml', 'data/samples/congress/117/uslm\\\\BILLS-117hr261ih.xml', 'data/samples/congress/117/uslm\\\\BILLS-117hr2631ih.xml', 'data/samples/congress/117/uslm\\\\BILLS-117hr2634ih.xml', 'data/samples/congress/117/uslm\\\\BILLS-117hr2644ih.xml', 'data/samples/congress/117/uslm\\\\BILLS-117hr2653ih.xml', 'data/samples/congress/117/uslm\\\\BILLS-117hr2674ih.xml', 'data/samples/congress/117/uslm\\\\BILLS-117hr2682ih.xml', 'data/samples/congress/117/uslm\\\\BILLS-117hr2695eh.xml', 'data/samples/congress/117/uslm\\\\BILLS-117hr2695ih.xml', 'data/samples/congress/117/uslm\\\\BILLS-117hr2695rfs.xml', 'data/samples/congress/117/uslm\\\\BILLS-117hr2716ih.xml', 'data/samples/congress/117/uslm\\\\BILLS-117hr2721ih.xml', 'data/samples/congress/117/uslm\\\\BILLS-117hr2735ih.xml', 'data/samples/congress/117/uslm\\\\BILLS-117hr2738ih.xml', 'data/samples/congress/117/uslm\\\\BILLS-117hr2739ih.xml', 'data/samples/congress/117/uslm\\\\BILLS-117hr2750ih.xml', 'data/samples/congress/117/uslm\\\\BILLS-117hr2752ih.xml', 'data/samples/congress/117/uslm\\\\BILLS-117hr2762ih.xml', 'data/samples/congress/117/uslm\\\\BILLS-117hr2763ih.xml', 'data/samples/congress/117/uslm\\\\BILLS-117hr276ih.xml', 'data/samples/congress/117/uslm\\\\BILLS-117hr2771ih.xml', 'data/samples/congress/117/uslm\\\\BILLS-117hr2772ih.xml', 'data/samples/congress/117/uslm\\\\BILLS-117hr2773ih.xml', 'data/samples/congress/117/uslm\\\\BILLS-117hr2776ih.xml', 'data/samples/congress/117/uslm\\\\BILLS-117hr2784ih.xml', 'data/samples/congress/117/uslm\\\\BILLS-117hr2808ih.xml', 'data/samples/congress/117/uslm\\\\BILLS-117hr2821ih.xml', 'data/samples/congress/117/uslm\\\\BILLS-117hr2822ih.xml', 'data/samples/congress/117/uslm\\\\BILLS-117hr2833ih.xml', 'data/samples/congress/117/uslm\\\\BILLS-117hr2835ih.xml', 'data/samples/congress/117/uslm\\\\BILLS-117hr2844ih.xml', 'data/samples/congress/117/uslm\\\\BILLS-117hr2859ih.xml', 'data/samples/congress/117/uslm\\\\BILLS-117hr2864ih.xml', 'data/samples/congress/117/uslm\\\\BILLS-117hr2891ih.xml', 'data/samples/congress/117/uslm\\\\BILLS-117hr2908ih.xml', 'data/samples/congress/117/uslm\\\\BILLS-117hr2913ih.xml', 'data/samples/congress/117/uslm\\\\BILLS-117hr2924ih.xml', 'data/samples/congress/117/uslm\\\\BILLS-117hr2936ih.xml', 'data/samples/congress/117/uslm\\\\BILLS-117hr2946ih.xml', 'data/samples/congress/117/uslm\\\\BILLS-117hr2948ih.xml', 'data/samples/congress/117/uslm\\\\BILLS-117hr2973ih.xml', 'data/samples/congress/117/uslm\\\\BILLS-117hr2984ih.xml', 'data/samples/congress/117/uslm\\\\BILLS-117hr2986ih.xml', 'data/samples/congress/117/uslm\\\\BILLS-117hr2988ih.xml', 'data/samples/congress/117/uslm\\\\BILLS-117hr2996ih.xml', 'data/samples/congress/117/uslm\\\\BILLS-117hr2999ih.xml', 'data/samples/congress/117/uslm\\\\BILLS-117hr3009ih.xml', 'data/samples/congress/117/uslm\\\\BILLS-117hr3020ih.xml', 'data/samples/congress/117/uslm\\\\BILLS-117hr3057ih.xml', 'data/samples/congress/117/uslm\\\\BILLS-117hr3067ih.xml', 'data/samples/congress/117/uslm\\\\BILLS-117hr3080ih.xml', 'data/samples/congress/117/uslm\\\\BILLS-117hr3084ih.xml', 'data/samples/congress/117/uslm\\\\BILLS-117hr3085ih.xml', 'data/samples/congress/117/uslm\\\\BILLS-117hr3088ih.xml', 'data/samples/congress/117/uslm\\\\BILLS-117hr3093ih.xml', 'data/samples/congress/117/uslm\\\\BILLS-117hr3097ih.xml', 'data/samples/congress/117/uslm\\\\BILLS-117hr30ih.xml', 'data/samples/congress/117/uslm\\\\BILLS-117hr3105ih.xml', 'data/samples/congress/117/uslm\\\\BILLS-117hr3126ih.xml', 'data/samples/congress/117/uslm\\\\BILLS-117hr3127ih.xml', 'data/samples/congress/117/uslm\\\\BILLS-117hr3139ih.xml', 'data/samples/congress/117/uslm\\\\BILLS-117hr3141ih.xml', 'data/samples/congress/117/uslm\\\\BILLS-117hr3147ih.xml', 'data/samples/congress/117/uslm\\\\BILLS-117hr3200ih.xml', 'data/samples/congress/117/uslm\\\\BILLS-117hr3218ih.xml', 'data/samples/congress/117/uslm\\\\BILLS-117hr3220ih.xml', 'data/samples/congress/117/uslm\\\\BILLS-117hr3222ih.xml', 'data/samples/congress/117/uslm\\\\BILLS-117hr3225ih.xml', 'data/samples/congress/117/uslm\\\\BILLS-117hr322ih.xml', 'data/samples/congress/117/uslm\\\\BILLS-117hr3231ih.xml', 'data/samples/congress/117/uslm\\\\BILLS-117hr3233eh.xml', 'data/samples/congress/117/uslm\\\\BILLS-117hr3233ih.xml', 'data/samples/congress/117/uslm\\\\BILLS-117hr3233pcs.xml', 'data/samples/congress/117/uslm\\\\BILLS-117hr3245ih.xml', 'data/samples/congress/117/uslm\\\\BILLS-117hr3246ih.xml', 'data/samples/congress/117/uslm\\\\BILLS-117hr3268ih.xml', 'data/samples/congress/117/uslm\\\\BILLS-117hr3271ih.xml', 'data/samples/congress/117/uslm\\\\BILLS-117hr3294ih.xml', 'data/samples/congress/117/uslm\\\\BILLS-117hr3326ih.xml', 'data/samples/congress/117/uslm\\\\BILLS-117hr3330ih.xml', 'data/samples/congress/117/uslm\\\\BILLS-117hr3342ih.xml', 'data/samples/congress/117/uslm\\\\BILLS-117hr3372ih.xml', 'data/samples/congress/117/uslm\\\\BILLS-117hr3377ih.xml', 'data/samples/congress/117/uslm\\\\BILLS-117hr3380ih.xml', 'data/samples/congress/117/uslm\\\\BILLS-117hr3426ih.xml', 'data/samples/congress/117/uslm\\\\BILLS-117hr3434ih.xml', 'data/samples/congress/117/uslm\\\\BILLS-117hr3471ih.xml', 'data/samples/congress/117/uslm\\\\BILLS-117hr3480ih.xml', 'data/samples/congress/117/uslm\\\\BILLS-117hr3482ih.xml', 'data/samples/congress/117/uslm\\\\BILLS-117hr3488ih.xml', 'data/samples/congress/117/uslm\\\\BILLS-117hr3541ih.xml', 'data/samples/congress/117/uslm\\\\BILLS-117hr3568ih.xml', 'data/samples/congress/117/uslm\\\\BILLS-117hr3572ih.xml', 'data/samples/congress/117/uslm\\\\BILLS-117hr3575ih.xml', 'data/samples/congress/117/uslm\\\\BILLS-117hr3577ih.xml', 'data/samples/congress/117/uslm\\\\BILLS-117hr3580ih.xml', 'data/samples/congress/117/uslm\\\\BILLS-117hr3583ih.xml', 'data/samples/congress/117/uslm\\\\BILLS-117hr3584ih.xml', 'data/samples/congress/117/uslm\\\\BILLS-117hr3610ih.xml', 'data/samples/congress/117/uslm\\\\BILLS-117hr3635ih.xml', 'data/samples/congress/117/uslm\\\\BILLS-117hr3678ih.xml', 'data/samples/congress/117/uslm\\\\BILLS-117hr3685ih.xml', 'data/samples/congress/117/uslm\\\\BILLS-117hr3701ih.xml', 'data/samples/congress/117/uslm\\\\BILLS-117hr3716ih.xml', 'data/samples/congress/117/uslm\\\\BILLS-117hr3738ih.xml', 'data/samples/congress/117/uslm\\\\BILLS-117hr3748ih.xml', 'data/samples/congress/117/uslm\\\\BILLS-117hr3755ih.xml', 'data/samples/congress/117/uslm\\\\BILLS-117hr3761ih.xml', 'data/samples/congress/117/uslm\\\\BILLS-117hr3763ih.xml', 'data/samples/congress/117/uslm\\\\BILLS-117hr3766ih.xml', 'data/samples/congress/117/uslm\\\\BILLS-117hr3767ih.xml', 'data/samples/congress/117/uslm\\\\BILLS-117hr3783ih.xml', 'data/samples/congress/117/uslm\\\\BILLS-117hr3806ih.xml', 'data/samples/congress/117/uslm\\\\BILLS-117hr3816ih.xml', 'data/samples/congress/117/uslm\\\\BILLS-117hr3822ih.xml', 'data/samples/congress/117/uslm\\\\BILLS-117hr3824ih.xml', 'data/samples/congress/117/uslm\\\\BILLS-117hr3848ih.xml', 'data/samples/congress/117/uslm\\\\BILLS-117hr3849ih.xml', 'data/samples/congress/117/uslm\\\\BILLS-117hr3857ih.xml', 'data/samples/congress/117/uslm\\\\BILLS-117hr3862ih.xml', 'data/samples/congress/117/uslm\\\\BILLS-117hr3897ih.xml', 'data/samples/congress/117/uslm\\\\BILLS-117hr3906ih.xml', 'data/samples/congress/117/uslm\\\\BILLS-117hr391ih.xml', 'data/samples/congress/117/uslm\\\\BILLS-117hr3925ih.xml', 'data/samples/congress/117/uslm\\\\BILLS-117hr3939ih.xml', 'data/samples/congress/117/uslm\\\\BILLS-117hr3962ih.xml', 'data/samples/congress/117/uslm\\\\BILLS-117hr3987ih.xml', 'data/samples/congress/117/uslm\\\\BILLS-117hr4011ih.xml', 'data/samples/congress/117/uslm\\\\BILLS-117hr4018ih.xml', 'data/samples/congress/117/uslm\\\\BILLS-117hr402ih.xml', 'data/samples/congress/117/uslm\\\\BILLS-117hr4033ih.xml', 'data/samples/congress/117/uslm\\\\BILLS-117hr4043ih.xml', 'data/samples/congress/117/uslm\\\\BILLS-117hr4065ih.xml', 'data/samples/congress/117/uslm\\\\BILLS-117hr4077ih.xml', 'data/samples/congress/117/uslm\\\\BILLS-117hr4079ih.xml', 'data/samples/congress/117/uslm\\\\BILLS-117hr4082ih.xml', 'data/samples/congress/117/uslm\\\\BILLS-117hr4093ih.xml', 'data/samples/congress/117/uslm\\\\BILLS-117hr4100ih.xml', 'data/samples/congress/117/uslm\\\\BILLS-117hr4104ih.xml', 'data/samples/congress/117/uslm\\\\BILLS-117hr4124ih.xml', 'data/samples/congress/117/uslm\\\\BILLS-117hr4132ih.xml', 'data/samples/congress/117/uslm\\\\BILLS-117hr4139ih.xml', 'data/samples/congress/117/uslm\\\\BILLS-117hr4145ih.xml', 'data/samples/congress/117/uslm\\\\BILLS-117hr4150ih.xml', 'data/samples/congress/117/uslm\\\\BILLS-117hr4167ih.xml', 'data/samples/congress/117/uslm\\\\BILLS-117hr4169ih.xml', 'data/samples/congress/117/uslm\\\\BILLS-117hr4174ih.xml', 'data/samples/congress/117/uslm\\\\BILLS-117hr4186ih.xml', 'data/samples/congress/117/uslm\\\\BILLS-117hr4220ih.xml', 'data/samples/congress/117/uslm\\\\BILLS-117hr4232ih.xml', 'data/samples/congress/117/uslm\\\\BILLS-117hr4237ih.xml', 'data/samples/congress/117/uslm\\\\BILLS-117hr4238ih.xml', 'data/samples/congress/117/uslm\\\\BILLS-117hr4287ih.xml', 'data/samples/congress/117/uslm\\\\BILLS-117hr4307ih.xml', 'data/samples/congress/117/uslm\\\\BILLS-117hr4324ih.xml', 'data/samples/congress/117/uslm\\\\BILLS-117hr4374ih.xml', 'data/samples/congress/117/uslm\\\\BILLS-117hr4387ih.xml', 'data/samples/congress/117/uslm\\\\BILLS-117hr439ih.xml', 'data/samples/congress/117/uslm\\\\BILLS-117hr4423ih.xml', 'data/samples/congress/117/uslm\\\\BILLS-117hr4433ih.xml', 'data/samples/congress/117/uslm\\\\BILLS-117hr4436ih.xml', 'data/samples/congress/117/uslm\\\\BILLS-117hr4439ih.xml', 'data/samples/congress/117/uslm\\\\BILLS-117hr4440ih.xml', 'data/samples/congress/117/uslm\\\\BILLS-117hr4459ih.xml', 'data/samples/congress/117/uslm\\\\BILLS-117hr448ih.xml', 'data/samples/congress/117/uslm\\\\BILLS-117hr4495ih.xml', 'data/samples/congress/117/uslm\\\\BILLS-117hr4499ih.xml', 'data/samples/congress/117/uslm\\\\BILLS-117hr4510ih.xml', 'data/samples/congress/117/uslm\\\\BILLS-117hr4520ih.xml', 'data/samples/congress/117/uslm\\\\BILLS-117hr4534ih.xml', 'data/samples/congress/117/uslm\\\\BILLS-117hr4546ih.xml', 'data/samples/congress/117/uslm\\\\BILLS-117hr4589ih.xml', 'data/samples/congress/117/uslm\\\\BILLS-117hr4616ih.xml', 'data/samples/congress/117/uslm\\\\BILLS-117hr4637ih.xml', 'data/samples/congress/117/uslm\\\\BILLS-117hr4664ih.xml', 'data/samples/congress/117/uslm\\\\BILLS-117hr4665ih.xml', 'data/samples/congress/117/uslm\\\\BILLS-117hr4670ih.xml', 'data/samples/congress/117/uslm\\\\BILLS-117hr4681ih.xml', 'data/samples/congress/117/uslm\\\\BILLS-117hr4727ih.xml', 'data/samples/congress/117/uslm\\\\BILLS-117hr472ih.xml', 'data/samples/congress/117/uslm\\\\BILLS-117hr4740ih.xml', 'data/samples/congress/117/uslm\\\\BILLS-117hr499ih.xml', 'data/samples/congress/117/uslm\\\\BILLS-117hr501ih.xml', 'data/samples/congress/117/uslm\\\\BILLS-117hr505ih.xml', 'data/samples/congress/117/uslm\\\\BILLS-117hr521ih.xml', 'data/samples/congress/117/uslm\\\\BILLS-117hr530ih.xml', 'data/samples/congress/117/uslm\\\\BILLS-117hr542ih.xml', 'data/samples/congress/117/uslm\\\\BILLS-117hr567eh.xml', 'data/samples/congress/117/uslm\\\\BILLS-117hr571ih.xml', 'data/samples/congress/117/uslm\\\\BILLS-117hr572ih.xml', 'data/samples/congress/117/uslm\\\\BILLS-117hr578ih.xml', 'data/samples/congress/117/uslm\\\\BILLS-117hr597ih.xml', 'data/samples/congress/117/uslm\\\\BILLS-117hr636ih.xml', 'data/samples/congress/117/uslm\\\\BILLS-117hr652ih.xml', 'data/samples/congress/117/uslm\\\\BILLS-117hr676ih.xml', 'data/samples/congress/117/uslm\\\\BILLS-117hr701ih.xml', 'data/samples/congress/117/uslm\\\\BILLS-117hr709ih.xml', 'data/samples/congress/117/uslm\\\\BILLS-117hr71ih.xml', 'data/samples/congress/117/uslm\\\\BILLS-117hr728ih.xml', 'data/samples/congress/117/uslm\\\\BILLS-117hr729ih.xml', 'data/samples/congress/117/uslm\\\\BILLS-117hr744ih.xml', 'data/samples/congress/117/uslm\\\\BILLS-117hr759ih.xml', 'data/samples/congress/117/uslm\\\\BILLS-117hr769ih.xml', 'data/samples/congress/117/uslm\\\\BILLS-117hr793ih.xml', 'data/samples/congress/117/uslm\\\\BILLS-117hr794ih.xml', 'data/samples/congress/117/uslm\\\\BILLS-117hr803ih.xml', 'data/samples/congress/117/uslm\\\\BILLS-117hr807ih.xml', 'data/samples/congress/117/uslm\\\\BILLS-117hr80ih.xml', 'data/samples/congress/117/uslm\\\\BILLS-117hr816ih.xml', 'data/samples/congress/117/uslm\\\\BILLS-117hr831ih.xml', 'data/samples/congress/117/uslm\\\\BILLS-117hr834ih.xml', 'data/samples/congress/117/uslm\\\\BILLS-117hr844ih.xml', 'data/samples/congress/117/uslm\\\\BILLS-117hr846ih.xml', 'data/samples/congress/117/uslm\\\\BILLS-117hr849ih.xml', 'data/samples/congress/117/uslm\\\\BILLS-117hr854ih.xml', 'data/samples/congress/117/uslm\\\\BILLS-117hr889ih.xml', 'data/samples/congress/117/uslm\\\\BILLS-117hr892ih.xml', 'data/samples/congress/117/uslm\\\\BILLS-117hr915ih.xml', 'data/samples/congress/117/uslm\\\\BILLS-117hr925ih.xml', 'data/samples/congress/117/uslm\\\\BILLS-117hr928ih.xml', 'data/samples/congress/117/uslm\\\\BILLS-117hr937ih.xml', 'data/samples/congress/117/uslm\\\\BILLS-117hr945ih.xml', 'data/samples/congress/117/uslm\\\\BILLS-117hr948ih.xml', 'data/samples/congress/117/uslm\\\\BILLS-117hr968ih.xml', 'data/samples/congress/117/uslm\\\\BILLS-117hr974ih.xml', 'data/samples/congress/117/uslm\\\\BILLS-117hr999ih.xml', 'data/samples/congress/117/uslm\\\\BILLS-117hres104ih.xml', 'data/samples/congress/117/uslm\\\\BILLS-117hres132ih.xml', 'data/samples/congress/117/uslm\\\\BILLS-117hres332ih.xml', 'data/samples/congress/117/uslm\\\\BILLS-117hres438ih.xml', 'data/samples/congress/117/uslm\\\\BILLS-117hres568ih.xml', 'data/samples/congress/117/uslm\\\\BILLS-117hres64ih.xml', 'data/samples/congress/117/uslm\\\\BILLS-117s1022is.xml', 'data/samples/congress/117/uslm\\\\BILLS-117s1023is.xml', 'data/samples/congress/117/uslm\\\\BILLS-117s103is.xml', 'data/samples/congress/117/uslm\\\\BILLS-117s1041is.xml', 'data/samples/congress/117/uslm\\\\BILLS-117s1043is.xml', 'data/samples/congress/117/uslm\\\\BILLS-117s1052is.xml', 'data/samples/congress/117/uslm\\\\BILLS-117s1054is.xml', 'data/samples/congress/117/uslm\\\\BILLS-117s1056is.xml', 'data/samples/congress/117/uslm\\\\BILLS-117s1059is.xml', 'data/samples/congress/117/uslm\\\\BILLS-117s1060is.xml', 'data/samples/congress/117/uslm\\\\BILLS-117s1061rs.xml', 'data/samples/congress/117/uslm\\\\BILLS-117s1064is.xml', 'data/samples/congress/117/uslm\\\\BILLS-117s1066is.xml', 'data/samples/congress/117/uslm\\\\BILLS-117s1068is.xml', 'data/samples/congress/117/uslm\\\\BILLS-117s1078is.xml', 'data/samples/congress/117/uslm\\\\BILLS-117s107is.xml', 'data/samples/congress/117/uslm\\\\BILLS-117s1085is.xml', 'data/samples/congress/117/uslm\\\\BILLS-117s1086is.xml', 'data/samples/congress/117/uslm\\\\BILLS-117s1094is.xml', 'data/samples/congress/117/uslm\\\\BILLS-117s1104is.xml', 'data/samples/congress/117/uslm\\\\BILLS-117s1125is.xml', 'data/samples/congress/117/uslm\\\\BILLS-117s1165is.xml', 'data/samples/congress/117/uslm\\\\BILLS-117s1173is.xml', 'data/samples/congress/117/uslm\\\\BILLS-117s1174is.xml', 'data/samples/congress/117/uslm\\\\BILLS-117s1181is.xml', 'data/samples/congress/117/uslm\\\\BILLS-117s1185is.xml', 'data/samples/congress/117/uslm\\\\BILLS-117s1202is.xml', 'data/samples/congress/117/uslm\\\\BILLS-117s1203is.xml', 'data/samples/congress/117/uslm\\\\BILLS-117s1217is.xml', 'data/samples/congress/117/uslm\\\\BILLS-117s1240is.xml', 'data/samples/congress/117/uslm\\\\BILLS-117s1248is.xml', 'data/samples/congress/117/uslm\\\\BILLS-117s1249is.xml', 'data/samples/congress/117/uslm\\\\BILLS-117s1264is.xml', 'data/samples/congress/117/uslm\\\\BILLS-117s1265is.xml', 'data/samples/congress/117/uslm\\\\BILLS-117s1271is.xml', 'data/samples/congress/117/uslm\\\\BILLS-117s1279is.xml', 'data/samples/congress/117/uslm\\\\BILLS-117s127is.xml', 'data/samples/congress/117/uslm\\\\BILLS-117s1283is.xml', 'data/samples/congress/117/uslm\\\\BILLS-117s1295is.xml', 'data/samples/congress/117/uslm\\\\BILLS-117s1297is.xml', 'data/samples/congress/117/uslm\\\\BILLS-117s129is.xml', 'data/samples/congress/117/uslm\\\\BILLS-117s131is.xml', 'data/samples/congress/117/uslm\\\\BILLS-117s1322is.xml', 'data/samples/congress/117/uslm\\\\BILLS-117s1353is.xml', 'data/samples/congress/117/uslm\\\\BILLS-117s1366is.xml', 'data/samples/congress/117/uslm\\\\BILLS-117s1370is.xml', 'data/samples/congress/117/uslm\\\\BILLS-117s1374is.xml', 'data/samples/congress/117/uslm\\\\BILLS-117s1379is.xml', 'data/samples/congress/117/uslm\\\\BILLS-117s1380is.xml', 'data/samples/congress/117/uslm\\\\BILLS-117s1405is.xml', 'data/samples/congress/117/uslm\\\\BILLS-117s140is.xml', 'data/samples/congress/117/uslm\\\\BILLS-117s1411is.xml', 'data/samples/congress/117/uslm\\\\BILLS-117s1414is.xml', 'data/samples/congress/117/uslm\\\\BILLS-117s1422is.xml', 'data/samples/congress/117/uslm\\\\BILLS-117s1428is.xml', 'data/samples/congress/117/uslm\\\\BILLS-117s1435is.xml', 'data/samples/congress/117/uslm\\\\BILLS-117s1452is.xml', 'data/samples/congress/117/uslm\\\\BILLS-117s1455is.xml', 'data/samples/congress/117/uslm\\\\BILLS-117s1461is.xml', 'data/samples/congress/117/uslm\\\\BILLS-117s1469is.xml', 'data/samples/congress/117/uslm\\\\BILLS-117s1478is.xml', 'data/samples/congress/117/uslm\\\\BILLS-117s1483is.xml', 'data/samples/congress/117/uslm\\\\BILLS-117s1491is.xml', 'data/samples/congress/117/uslm\\\\BILLS-117s1493is.xml', 'data/samples/congress/117/uslm\\\\BILLS-117s14rs.xml', 'data/samples/congress/117/uslm\\\\BILLS-117s1511es.xml', 'data/samples/congress/117/uslm\\\\BILLS-117s1511is.xml', 'data/samples/congress/117/uslm\\\\BILLS-117s1519is.xml', 'data/samples/congress/117/uslm\\\\BILLS-117s1520is.xml', 'data/samples/congress/117/uslm\\\\BILLS-117s1534is.xml', 'data/samples/congress/117/uslm\\\\BILLS-117s1538is.xml', 'data/samples/congress/117/uslm\\\\BILLS-117s1546is.xml', 'data/samples/congress/117/uslm\\\\BILLS-117s1548is.xml', 'data/samples/congress/117/uslm\\\\BILLS-117s1553is.xml', 'data/samples/congress/117/uslm\\\\BILLS-117s1566is.xml', 'data/samples/congress/117/uslm\\\\BILLS-117s158is.xml', 'data/samples/congress/117/uslm\\\\BILLS-117s1592is.xml', 'data/samples/congress/117/uslm\\\\BILLS-117s1599is.xml', 'data/samples/congress/117/uslm\\\\BILLS-117s1600is.xml', 'data/samples/congress/117/uslm\\\\BILLS-117s1622is.xml', 'data/samples/congress/117/uslm\\\\BILLS-117s1625is.xml', 'data/samples/congress/117/uslm\\\\BILLS-117s1632is.xml', 'data/samples/congress/117/uslm\\\\BILLS-117s1643is.xml', 'data/samples/congress/117/uslm\\\\BILLS-117s1644is.xml', 'data/samples/congress/117/uslm\\\\BILLS-117s1657is.xml', 'data/samples/congress/117/uslm\\\\BILLS-117s1667is.xml', 'data/samples/congress/117/uslm\\\\BILLS-117s1675rs.xml', 'data/samples/congress/117/uslm\\\\BILLS-117s1676is.xml', 'data/samples/congress/117/uslm\\\\BILLS-117s1688is.xml', 'data/samples/congress/117/uslm\\\\BILLS-117s1696is.xml', 'data/samples/congress/117/uslm\\\\BILLS-117s1699is.xml', 'data/samples/congress/117/uslm\\\\BILLS-117s1700is.xml', 'data/samples/congress/117/uslm\\\\BILLS-117s1702is.xml', 'data/samples/congress/117/uslm\\\\BILLS-117s1705is.xml', 'data/samples/congress/117/uslm\\\\BILLS-117s170is.xml', 'data/samples/congress/117/uslm\\\\BILLS-117s1726is.xml', 'data/samples/congress/117/uslm\\\\BILLS-117s1730is.xml', 'data/samples/congress/117/uslm\\\\BILLS-117s1733is.xml', 'data/samples/congress/117/uslm\\\\BILLS-117s1737is.xml', 'data/samples/congress/117/uslm\\\\BILLS-117s1752is.xml', 'data/samples/congress/117/uslm\\\\BILLS-117s1756is.xml', 'data/samples/congress/117/uslm\\\\BILLS-117s1772is.xml', 'data/samples/congress/117/uslm\\\\BILLS-117s1788is.xml', 'data/samples/congress/117/uslm\\\\BILLS-117s1791is.xml', 'data/samples/congress/117/uslm\\\\BILLS-117s1793is.xml', 'data/samples/congress/117/uslm\\\\BILLS-117s1804is.xml', 'data/samples/congress/117/uslm\\\\BILLS-117s1805is.xml', 'data/samples/congress/117/uslm\\\\BILLS-117s1809is.xml', 'data/samples/congress/117/uslm\\\\BILLS-117s1810is.xml', 'data/samples/congress/117/uslm\\\\BILLS-117s1811is.xml', 'data/samples/congress/117/uslm\\\\BILLS-117s1815is.xml', 'data/samples/congress/117/uslm\\\\BILLS-117s1816is.xml', 'data/samples/congress/117/uslm\\\\BILLS-117s1819is.xml', 'data/samples/congress/117/uslm\\\\BILLS-117s1820is.xml', 'data/samples/congress/117/uslm\\\\BILLS-117s1828es.xml', 'data/samples/congress/117/uslm\\\\BILLS-117s1840is.xml', 'data/samples/congress/117/uslm\\\\BILLS-117s1841is.xml', 'data/samples/congress/117/uslm\\\\BILLS-117s1844is.xml', 'data/samples/congress/117/uslm\\\\BILLS-117s1847is.xml', 'data/samples/congress/117/uslm\\\\BILLS-117s1848is.xml', 'data/samples/congress/117/uslm\\\\BILLS-117s1857is.xml', 'data/samples/congress/117/uslm\\\\BILLS-117s1866is.xml', 'data/samples/congress/117/uslm\\\\BILLS-117s187is.xml', 'data/samples/congress/117/uslm\\\\BILLS-117s1902is.xml', 'data/samples/congress/117/uslm\\\\BILLS-117s1904is.xml', 'data/samples/congress/117/uslm\\\\BILLS-117s1918is.xml', 'data/samples/congress/117/uslm\\\\BILLS-117s1942is.xml', 'data/samples/congress/117/uslm\\\\BILLS-117s1944is.xml', 'data/samples/congress/117/uslm\\\\BILLS-117s1945is.xml', 'data/samples/congress/117/uslm\\\\BILLS-117s1949is.xml', 'data/samples/congress/117/uslm\\\\BILLS-117s1957is.xml', 'data/samples/congress/117/uslm\\\\BILLS-117s1971is.xml', 'data/samples/congress/117/uslm\\\\BILLS-117s1975is.xml', 'data/samples/congress/117/uslm\\\\BILLS-117s1979is.xml', 'data/samples/congress/117/uslm\\\\BILLS-117s1981is.xml', 'data/samples/congress/117/uslm\\\\BILLS-117s2000rs.xml', 'data/samples/congress/117/uslm\\\\BILLS-117s2004is.xml', 'data/samples/congress/117/uslm\\\\BILLS-117s2013is.xml', 'data/samples/congress/117/uslm\\\\BILLS-117s2021is.xml', 'data/samples/congress/117/uslm\\\\BILLS-117s2031is.xml', 'data/samples/congress/117/uslm\\\\BILLS-117s2038is.xml', 'data/samples/congress/117/uslm\\\\BILLS-117s203is.xml', 'data/samples/congress/117/uslm\\\\BILLS-117s2046is.xml', 'data/samples/congress/117/uslm\\\\BILLS-117s2054is.xml', 'data/samples/congress/117/uslm\\\\BILLS-117s2065is.xml', 'data/samples/congress/117/uslm\\\\BILLS-117s2066is.xml', 'data/samples/congress/117/uslm\\\\BILLS-117s2067is.xml', 'data/samples/congress/117/uslm\\\\BILLS-117s2117is.xml', 'data/samples/congress/117/uslm\\\\BILLS-117s2123is.xml', 'data/samples/congress/117/uslm\\\\BILLS-117s2124is.xml', 'data/samples/congress/117/uslm\\\\BILLS-117s2125is.xml', 'data/samples/congress/117/uslm\\\\BILLS-117s2130is.xml', 'data/samples/congress/117/uslm\\\\BILLS-117s2137is.xml', 'data/samples/congress/117/uslm\\\\BILLS-117s2138is.xml', 'data/samples/congress/117/uslm\\\\BILLS-117s2150is.xml', 'data/samples/congress/117/uslm\\\\BILLS-117s2165is.xml', 'data/samples/congress/117/uslm\\\\BILLS-117s2169is.xml', 'data/samples/congress/117/uslm\\\\BILLS-117s216is.xml', 'data/samples/congress/117/uslm\\\\BILLS-117s2170is.xml', 'data/samples/congress/117/uslm\\\\BILLS-117s2178is.xml', 'data/samples/congress/117/uslm\\\\BILLS-117s2185is.xml', 'data/samples/congress/117/uslm\\\\BILLS-117s2187is.xml', 'data/samples/congress/117/uslm\\\\BILLS-117s2192is.xml', 'data/samples/congress/117/uslm\\\\BILLS-117s2206is.xml', 'data/samples/congress/117/uslm\\\\BILLS-117s220is.xml', 'data/samples/congress/117/uslm\\\\BILLS-117s2231is.xml', 'data/samples/congress/117/uslm\\\\BILLS-117s2233is.xml', 'data/samples/congress/117/uslm\\\\BILLS-117s2239is.xml', 'data/samples/congress/117/uslm\\\\BILLS-117s223is.xml', 'data/samples/congress/117/uslm\\\\BILLS-117s2257is.xml', 'data/samples/congress/117/uslm\\\\BILLS-117s2259is.xml', 'data/samples/congress/117/uslm\\\\BILLS-117s2274is.xml', 'data/samples/congress/117/uslm\\\\BILLS-117s2296is.xml', 'data/samples/congress/117/uslm\\\\BILLS-117s2300is.xml', 'data/samples/congress/117/uslm\\\\BILLS-117s2306is.xml', 'data/samples/congress/117/uslm\\\\BILLS-117s2324is.xml', 'data/samples/congress/117/uslm\\\\BILLS-117s2325is.xml', 'data/samples/congress/117/uslm\\\\BILLS-117s2326is.xml', 'data/samples/congress/117/uslm\\\\BILLS-117s2340is.xml', 'data/samples/congress/117/uslm\\\\BILLS-117s2347is.xml', 'data/samples/congress/117/uslm\\\\BILLS-117s2351is.xml', 'data/samples/congress/117/uslm\\\\BILLS-117s2352is.xml', 'data/samples/congress/117/uslm\\\\BILLS-117s2368is.xml', 'data/samples/congress/117/uslm\\\\BILLS-117s2369is.xml', 'data/samples/congress/117/uslm\\\\BILLS-117s2372is.xml', 'data/samples/congress/117/uslm\\\\BILLS-117s2378is.xml', 'data/samples/congress/117/uslm\\\\BILLS-117s2403is.xml', 'data/samples/congress/117/uslm\\\\BILLS-117s2407is.xml', 'data/samples/congress/117/uslm\\\\BILLS-117s241is.xml', 'data/samples/congress/117/uslm\\\\BILLS-117s2434is.xml', 'data/samples/congress/117/uslm\\\\BILLS-117s2441is.xml', 'data/samples/congress/117/uslm\\\\BILLS-117s2452is.xml', 'data/samples/congress/117/uslm\\\\BILLS-117s2473is.xml', 'data/samples/congress/117/uslm\\\\BILLS-117s2485is.xml', 'data/samples/congress/117/uslm\\\\BILLS-117s2494is.xml', 'data/samples/congress/117/uslm\\\\BILLS-117s2533is.xml', 'data/samples/congress/117/uslm\\\\BILLS-117s2535is.xml', 'data/samples/congress/117/uslm\\\\BILLS-117s2548is.xml', 'data/samples/congress/117/uslm\\\\BILLS-117s255is.xml', 'data/samples/congress/117/uslm\\\\BILLS-117s2562is.xml', 'data/samples/congress/117/uslm\\\\BILLS-117s2564is.xml', 'data/samples/congress/117/uslm\\\\BILLS-117s2570is.xml', 'data/samples/congress/117/uslm\\\\BILLS-117s2575is.xml', 'data/samples/congress/117/uslm\\\\BILLS-117s2583is.xml', 'data/samples/congress/117/uslm\\\\BILLS-117s2596is.xml', 'data/samples/congress/117/uslm\\\\BILLS-117s2600is.xml', 'data/samples/congress/117/uslm\\\\BILLS-117s2617is.xml', 'data/samples/congress/117/uslm\\\\BILLS-117s2622is.xml', 'data/samples/congress/117/uslm\\\\BILLS-117s268is.xml', 'data/samples/congress/117/uslm\\\\BILLS-117s272rs.xml', 'data/samples/congress/117/uslm\\\\BILLS-117s278is.xml', 'data/samples/congress/117/uslm\\\\BILLS-117s280is.xml', 'data/samples/congress/117/uslm\\\\BILLS-117s287is.xml', 'data/samples/congress/117/uslm\\\\BILLS-117s291is.xml', 'data/samples/congress/117/uslm\\\\BILLS-117s301is.xml', 'data/samples/congress/117/uslm\\\\BILLS-117s304is.xml', 'data/samples/congress/117/uslm\\\\BILLS-117s306is.xml', 'data/samples/congress/117/uslm\\\\BILLS-117s317is.xml', 'data/samples/congress/117/uslm\\\\BILLS-117s322is.xml', 'data/samples/congress/117/uslm\\\\BILLS-117s341is.xml', 'data/samples/congress/117/uslm\\\\BILLS-117s358is.xml', 'data/samples/congress/117/uslm\\\\BILLS-117s370is.xml', 'data/samples/congress/117/uslm\\\\BILLS-117s37is.xml', 'data/samples/congress/117/uslm\\\\BILLS-117s388is.xml', 'data/samples/congress/117/uslm\\\\BILLS-117s396is.xml', 'data/samples/congress/117/uslm\\\\BILLS-117s408is.xml', 'data/samples/congress/117/uslm\\\\BILLS-117s416is.xml', 'data/samples/congress/117/uslm\\\\BILLS-117s424is.xml', 'data/samples/congress/117/uslm\\\\BILLS-117s425is.xml', 'data/samples/congress/117/uslm\\\\BILLS-117s431is.xml', 'data/samples/congress/117/uslm\\\\BILLS-117s436is.xml', 'data/samples/congress/117/uslm\\\\BILLS-117s437is.xml', 'data/samples/congress/117/uslm\\\\BILLS-117s439is.xml', 'data/samples/congress/117/uslm\\\\BILLS-117s43is.xml', 'data/samples/congress/117/uslm\\\\BILLS-117s447is.xml', 'data/samples/congress/117/uslm\\\\BILLS-117s455is.xml', 'data/samples/congress/117/uslm\\\\BILLS-117s459is.xml', 'data/samples/congress/117/uslm\\\\BILLS-117s477is.xml', 'data/samples/congress/117/uslm\\\\BILLS-117s47is.xml', 'data/samples/congress/117/uslm\\\\BILLS-117s490is.xml', 'data/samples/congress/117/uslm\\\\BILLS-117s506is.xml', 'data/samples/congress/117/uslm\\\\BILLS-117s507is.xml', 'data/samples/congress/117/uslm\\\\BILLS-117s508is.xml', 'data/samples/congress/117/uslm\\\\BILLS-117s510is.xml', 'data/samples/congress/117/uslm\\\\BILLS-117s512is.xml', 'data/samples/congress/117/uslm\\\\BILLS-117s518is.xml', 'data/samples/congress/117/uslm\\\\BILLS-117s531is.xml', 'data/samples/congress/117/uslm\\\\BILLS-117s537is.xml', 'data/samples/congress/117/uslm\\\\BILLS-117s543is.xml', 'data/samples/congress/117/uslm\\\\BILLS-117s556is.xml', 'data/samples/congress/117/uslm\\\\BILLS-117s560is.xml', 'data/samples/congress/117/uslm\\\\BILLS-117s563is.xml', 'data/samples/congress/117/uslm\\\\BILLS-117s587is.xml', 'data/samples/congress/117/uslm\\\\BILLS-117s597is.xml', 'data/samples/congress/117/uslm\\\\BILLS-117s602is.xml', 'data/samples/congress/117/uslm\\\\BILLS-117s604is.xml', 'data/samples/congress/117/uslm\\\\BILLS-117s605is.xml', 'data/samples/congress/117/uslm\\\\BILLS-117s607is.xml', 'data/samples/congress/117/uslm\\\\BILLS-117s610rs.xml', 'data/samples/congress/117/uslm\\\\BILLS-117s615is.xml', 'data/samples/congress/117/uslm\\\\BILLS-117s61is.xml', 'data/samples/congress/117/uslm\\\\BILLS-117s621is.xml', 'data/samples/congress/117/uslm\\\\BILLS-117s641is.xml', 'data/samples/congress/117/uslm\\\\BILLS-117s642is.xml', 'data/samples/congress/117/uslm\\\\BILLS-117s65es.xml', 'data/samples/congress/117/uslm\\\\BILLS-117s65is.xml', 'data/samples/congress/117/uslm\\\\BILLS-117s668is.xml', 'data/samples/congress/117/uslm\\\\BILLS-117s670is.xml', 'data/samples/congress/117/uslm\\\\BILLS-117s686is.xml', 'data/samples/congress/117/uslm\\\\BILLS-117s68is.xml', 'data/samples/congress/117/uslm\\\\BILLS-117s707is.xml', 'data/samples/congress/117/uslm\\\\BILLS-117s718is.xml', 'data/samples/congress/117/uslm\\\\BILLS-117s71is.xml', 'data/samples/congress/117/uslm\\\\BILLS-117s729is.xml', 'data/samples/congress/117/uslm\\\\BILLS-117s731is.xml', 'data/samples/congress/117/uslm\\\\BILLS-117s73is.xml', 'data/samples/congress/117/uslm\\\\BILLS-117s74is.xml', 'data/samples/congress/117/uslm\\\\BILLS-117s769is.xml', 'data/samples/congress/117/uslm\\\\BILLS-117s783is.xml', 'data/samples/congress/117/uslm\\\\BILLS-117s790is.xml', 'data/samples/congress/117/uslm\\\\BILLS-117s811is.xml', 'data/samples/congress/117/uslm\\\\BILLS-117s821is.xml', 'data/samples/congress/117/uslm\\\\BILLS-117s825is.xml', 'data/samples/congress/117/uslm\\\\BILLS-117s857is.xml', 'data/samples/congress/117/uslm\\\\BILLS-117s864is.xml', 'data/samples/congress/117/uslm\\\\BILLS-117s873is.xml', 'data/samples/congress/117/uslm\\\\BILLS-117s878is.xml', 'data/samples/congress/117/uslm\\\\BILLS-117s883is.xml', 'data/samples/congress/117/uslm\\\\BILLS-117s893is.xml', 'data/samples/congress/117/uslm\\\\BILLS-117s908is.xml', 'data/samples/congress/117/uslm\\\\BILLS-117s909is.xml', 'data/samples/congress/117/uslm\\\\BILLS-117s916is.xml', 'data/samples/congress/117/uslm\\\\BILLS-117s920is.xml', 'data/samples/congress/117/uslm\\\\BILLS-117s922is.xml', 'data/samples/congress/117/uslm\\\\BILLS-117s926is.xml', 'data/samples/congress/117/uslm\\\\BILLS-117s937enr.xml', 'data/samples/congress/117/uslm\\\\BILLS-117s937es.xml', 'data/samples/congress/117/uslm\\\\BILLS-117s938is.xml', 'data/samples/congress/117/uslm\\\\BILLS-117s952is.xml', 'data/samples/congress/117/uslm\\\\BILLS-117s953is.xml', 'data/samples/congress/117/uslm\\\\BILLS-117s963pcs.xml', 'data/samples/congress/117/uslm\\\\BILLS-117s965is.xml', 'data/samples/congress/117/uslm\\\\BILLS-117s98is.xml', 'data/samples/congress/117/uslm\\\\BILLS-117s994is.xml', 'data/samples/congress/117/uslm\\\\BILLS-117sres176rs.xml', 'data/samples/congress/117/uslm\\\\BILLS-117sres241is.xml', 'data/samples/congress/117/uslm\\\\BILLS-117sres36rs.xml', 'data/samples/congress/117/uslm\\\\BILLS-117sres43is.xml']\n"
     ]
    }
   ],
   "source": [
    "print(sorted(get_files_by_size(31, 50, PATH_117_USLM)) [:])\n",
    "\n",
    "#create temp list\n",
    "temp=[]\n",
    "\n",
    "#append avg size\n",
    "temp.append(int((31+ 50)/2))\n"
   ]
  },
  {
   "cell_type": "code",
   "execution_count": 27,
   "metadata": {},
   "outputs": [
    {
     "name": "stdout",
     "output_type": "stream",
     "text": [
      "0.07505226135253906 [[1.]]\n",
      "0.0720517635345459\n",
      "0.0010001659393310547\n",
      "0.14810419082641602\n"
     ]
    }
   ],
   "source": [
    "#pick any Document A & any Document B from data lists (at least that have more than 1 section)\n",
    "A_doc_name = 'BILLS-117hr1490eh'\n",
    "B_doc_name = 'BILLS-117hr1490ih'\n",
    "\n",
    "#get documents by file name\n",
    "A_doc = [i[1] for i in doc_corpus_data if A_doc_name ==i[0]][0]\n",
    "B_doc = [i[1] for i in doc_corpus_data if B_doc_name ==i[0]][0]\n",
    "\n",
    "A_section_doc = [i[2] for i in section_corpus_data if A_doc_name ==i[0]]\n",
    "B_section_doc = [i[2] for i in section_corpus_data if B_doc_name ==i[0]]\n",
    "\n",
    "\n",
    "#transform document A content and document B content\n",
    "A_doc_vectorized = document_count_vectorized_transformation(A_doc, doc_count_vectorizer)\n",
    "B_doc_vectorized = document_count_vectorized_transformation(B_doc, doc_count_vectorizer)\n",
    "\n",
    "#transform document A section content and  document B section content\n",
    "A_section_doc_vectorized = section_doc_count_vectorized_transformation(A_section_doc, sec_count_vectorizer)\n",
    "B_section_doc_vectorized = section_doc_count_vectorized_transformation(B_section_doc, sec_count_vectorizer)\n",
    "\n",
    "\n",
    "#calculate pairwise similarity \n",
    "elapsed_1, doc_sim_score = cosine_pairwise_sim(A_doc_vectorized, B_doc_vectorized)\n",
    "elapsed_2, sec_doc_sim_score = cosine_pairwise_sim(A_section_doc_vectorized, B_section_doc_vectorized)\n",
    "elapsed_3, response = create_list_response(A_doc_name, B_doc_name, doc_sim_score, sec_doc_sim_score)\n",
    "\n",
    "total_elapsed_time = elapsed_1 + elapsed_2 + elapsed_3\n",
    "\n",
    "#append total_elapsed_time\n",
    "temp.append(total_elapsed_time)\n",
    "\n",
    "#append temp list into stats_time_size_analysis\n",
    "stats_time_size_analysis.append(temp)\n",
    "\n",
    "print(elapsed_1, doc_sim_score)\n",
    "print(elapsed_2)\n",
    "print(elapsed_3)\n",
    "\n",
    "print(total_elapsed_time)\n"
   ]
  },
  {
   "cell_type": "markdown",
   "metadata": {},
   "source": [
    "## Case # 05"
   ]
  },
  {
   "cell_type": "code",
   "execution_count": 28,
   "metadata": {},
   "outputs": [
    {
     "name": "stdout",
     "output_type": "stream",
     "text": [
      "['data/samples/congress/117/uslm\\\\BILLS-117hr1144eh.xml', 'data/samples/congress/117/uslm\\\\BILLS-117hr1144ih.xml', 'data/samples/congress/117/uslm\\\\BILLS-117hr1144rfs.xml', 'data/samples/congress/117/uslm\\\\BILLS-117hr1144rh.xml', 'data/samples/congress/117/uslm\\\\BILLS-117hr1155ih.xml', 'data/samples/congress/117/uslm\\\\BILLS-117hr1171ih.xml', 'data/samples/congress/117/uslm\\\\BILLS-117hr1195eh.xml', 'data/samples/congress/117/uslm\\\\BILLS-117hr1195ih.xml', 'data/samples/congress/117/uslm\\\\BILLS-117hr1195rfs.xml', 'data/samples/congress/117/uslm\\\\BILLS-117hr1195rh.xml', 'data/samples/congress/117/uslm\\\\BILLS-117hr1212ih.xml', 'data/samples/congress/117/uslm\\\\BILLS-117hr1226ih.xml', 'data/samples/congress/117/uslm\\\\BILLS-117hr1227ih.xml', 'data/samples/congress/117/uslm\\\\BILLS-117hr1228ih.xml', 'data/samples/congress/117/uslm\\\\BILLS-117hr1238ih.xml']\n"
     ]
    }
   ],
   "source": [
    "print(sorted(get_files_by_size(50, 100, PATH_117_USLM)) [5:20])\n",
    "\n",
    "#create temp list\n",
    "temp=[]\n",
    "\n",
    "#append avg size\n",
    "temp.append(int((50 + 100)/2))\n"
   ]
  },
  {
   "cell_type": "code",
   "execution_count": 29,
   "metadata": {},
   "outputs": [
    {
     "name": "stdout",
     "output_type": "stream",
     "text": [
      "0.08506202697753906 [[0.91407729]]\n",
      "0.0720512866973877\n",
      "0.0\n",
      "0.15711331367492676\n"
     ]
    }
   ],
   "source": [
    "#pick any Document A & any Document B from data lists (at least that have more than 1 section)\n",
    "A_doc_name = 'BILLS-117hr1144eh'\n",
    "B_doc_name = 'BILLS-117hr1144ih'\n",
    "\n",
    "#get documents by file name\n",
    "A_doc = [i[1] for i in doc_corpus_data if A_doc_name ==i[0]][0]\n",
    "B_doc = [i[1] for i in doc_corpus_data if B_doc_name ==i[0]][0]\n",
    "\n",
    "A_section_doc = [i[2] for i in section_corpus_data if A_doc_name ==i[0]]\n",
    "B_section_doc = [i[2] for i in section_corpus_data if B_doc_name ==i[0]]\n",
    "\n",
    "\n",
    "#transform document A content and document B content\n",
    "A_doc_vectorized = document_count_vectorized_transformation(A_doc, doc_count_vectorizer)\n",
    "B_doc_vectorized = document_count_vectorized_transformation(B_doc, doc_count_vectorizer)\n",
    "\n",
    "#transform document A section content and  document B section content\n",
    "A_section_doc_vectorized = section_doc_count_vectorized_transformation(A_section_doc, sec_count_vectorizer)\n",
    "B_section_doc_vectorized = section_doc_count_vectorized_transformation(B_section_doc, sec_count_vectorizer)\n",
    "\n",
    "\n",
    "#calculate pairwise similarity \n",
    "elapsed_1, doc_sim_score = cosine_pairwise_sim(A_doc_vectorized, B_doc_vectorized)\n",
    "elapsed_2, sec_doc_sim_score = cosine_pairwise_sim(A_section_doc_vectorized, B_section_doc_vectorized)\n",
    "elapsed_3, response = create_list_response(A_doc_name, B_doc_name, doc_sim_score, sec_doc_sim_score)\n",
    "\n",
    "total_elapsed_time = elapsed_1 + elapsed_2 + elapsed_3\n",
    "\n",
    "#append total_elapsed_time\n",
    "temp.append(total_elapsed_time)\n",
    "\n",
    "#append temp list into stats_time_size_analysis\n",
    "stats_time_size_analysis.append(temp)\n",
    "\n",
    "print(elapsed_1, doc_sim_score)\n",
    "print(elapsed_2)\n",
    "print(elapsed_3)\n",
    "\n",
    "print(total_elapsed_time)\n"
   ]
  },
  {
   "cell_type": "markdown",
   "metadata": {},
   "source": [
    "## ## Case # 06 "
   ]
  },
  {
   "cell_type": "code",
   "execution_count": 30,
   "metadata": {},
   "outputs": [
    {
     "name": "stdout",
     "output_type": "stream",
     "text": [
      "['data/samples/congress/117/uslm\\\\BILLS-117hr4346rfs.xml', 'data/samples/congress/117/uslm\\\\BILLS-117hr4346rh.xml', 'data/samples/congress/117/uslm\\\\BILLS-117hr4355rh.xml', 'data/samples/congress/117/uslm\\\\BILLS-117hr4375ih.xml', 'data/samples/congress/117/uslm\\\\BILLS-117hr4403ih.xml', 'data/samples/congress/117/uslm\\\\BILLS-117hr4442ih.xml', 'data/samples/congress/117/uslm\\\\BILLS-117hr4509ih.xml', 'data/samples/congress/117/uslm\\\\BILLS-117hr4549rh.xml', 'data/samples/congress/117/uslm\\\\BILLS-117hr4609ih.xml', 'data/samples/congress/117/uslm\\\\BILLS-117hr4720ih.xml', 'data/samples/congress/117/uslm\\\\BILLS-117hr4741ih.xml', 'data/samples/congress/117/uslm\\\\BILLS-117hr476ih.xml', 'data/samples/congress/117/uslm\\\\BILLS-117hr4801ih.xml', 'data/samples/congress/117/uslm\\\\BILLS-117hr4828ih.xml', 'data/samples/congress/117/uslm\\\\BILLS-117hr594ih.xml', 'data/samples/congress/117/uslm\\\\BILLS-117hr59ih.xml', 'data/samples/congress/117/uslm\\\\BILLS-117hr602ih.xml', 'data/samples/congress/117/uslm\\\\BILLS-117hr693ih.xml', 'data/samples/congress/117/uslm\\\\BILLS-117hr6eh.xml', 'data/samples/congress/117/uslm\\\\BILLS-117hr6ih.xml', 'data/samples/congress/117/uslm\\\\BILLS-117hr6rfs.xml', 'data/samples/congress/117/uslm\\\\BILLS-117hr842eh.xml', 'data/samples/congress/117/uslm\\\\BILLS-117hr842rfs.xml', 'data/samples/congress/117/uslm\\\\BILLS-117s1002is.xml', 'data/samples/congress/117/uslm\\\\BILLS-117s1014is.xml', 'data/samples/congress/117/uslm\\\\BILLS-117s1167is.xml', 'data/samples/congress/117/uslm\\\\BILLS-117s1218is.xml', 'data/samples/congress/117/uslm\\\\BILLS-117s1245is.xml', 'data/samples/congress/117/uslm\\\\BILLS-117s1255is.xml', 'data/samples/congress/117/uslm\\\\BILLS-117s126is.xml']\n"
     ]
    }
   ],
   "source": [
    "print(sorted(get_files_by_size(101, 150, PATH_117_USLM)) [50:80])\n",
    "\n",
    "#create temp list\n",
    "temp=[]\n",
    "\n",
    "#append avg size\n",
    "temp.append(int((101 + 150)/2))\n"
   ]
  },
  {
   "cell_type": "code",
   "execution_count": 31,
   "metadata": {},
   "outputs": [
    {
     "name": "stdout",
     "output_type": "stream",
     "text": [
      "0.0631873607635498 [[0.99441128]]\n",
      "0.0625009536743164\n",
      "0.0\n",
      "0.1256883144378662\n"
     ]
    }
   ],
   "source": [
    "#pick any Document A & any Document B from data lists (at least that have more than 1 section)\n",
    "A_doc_name = 'BILLS-117hr6eh'\n",
    "B_doc_name = 'BILLS-117hr6ih'\n",
    "\n",
    "#get documents by file name\n",
    "A_doc = [i[1] for i in doc_corpus_data if A_doc_name ==i[0]][0]\n",
    "B_doc = [i[1] for i in doc_corpus_data if B_doc_name ==i[0]][0]\n",
    "\n",
    "A_section_doc = [i[2] for i in section_corpus_data if A_doc_name ==i[0]]\n",
    "B_section_doc = [i[2] for i in section_corpus_data if B_doc_name ==i[0]]\n",
    "\n",
    "\n",
    "#transform document A content and document B content\n",
    "A_doc_vectorized = document_count_vectorized_transformation(A_doc, doc_count_vectorizer)\n",
    "B_doc_vectorized = document_count_vectorized_transformation(B_doc, doc_count_vectorizer)\n",
    "\n",
    "#transform document A section content and  document B section content\n",
    "A_section_doc_vectorized = section_doc_count_vectorized_transformation(A_section_doc, sec_count_vectorizer)\n",
    "B_section_doc_vectorized = section_doc_count_vectorized_transformation(B_section_doc, sec_count_vectorizer)\n",
    "\n",
    "\n",
    "#calculate pairwise similarity \n",
    "elapsed_1, doc_sim_score = cosine_pairwise_sim(A_doc_vectorized, B_doc_vectorized)\n",
    "elapsed_2, sec_doc_sim_score = cosine_pairwise_sim(A_section_doc_vectorized, B_section_doc_vectorized)\n",
    "elapsed_3, response = create_list_response(A_doc_name, B_doc_name, doc_sim_score, sec_doc_sim_score)\n",
    "\n",
    "total_elapsed_time = elapsed_1 + elapsed_2 + elapsed_3\n",
    "\n",
    "#append total_elapsed_time\n",
    "temp.append(total_elapsed_time)\n",
    "\n",
    "#append temp list into stats_time_size_analysis\n",
    "stats_time_size_analysis.append(temp)\n",
    "\n",
    "print(elapsed_1, doc_sim_score)\n",
    "print(elapsed_2)\n",
    "print(elapsed_3)\n",
    "\n",
    "print(total_elapsed_time)\n"
   ]
  },
  {
   "cell_type": "markdown",
   "metadata": {},
   "source": [
    "## Case # 07"
   ]
  },
  {
   "cell_type": "code",
   "execution_count": 32,
   "metadata": {},
   "outputs": [
    {
     "name": "stdout",
     "output_type": "stream",
     "text": [
      "['data/samples/congress/117/uslm\\\\BILLS-117hr2718ih.xml', 'data/samples/congress/117/uslm\\\\BILLS-117hr2768ih.xml', 'data/samples/congress/117/uslm\\\\BILLS-117hr2817ih.xml', 'data/samples/congress/117/uslm\\\\BILLS-117hr2886ih.xml', 'data/samples/congress/117/uslm\\\\BILLS-117hr2954ih.xml', 'data/samples/congress/117/uslm\\\\BILLS-117hr3404ih.xml', 'data/samples/congress/117/uslm\\\\BILLS-117hr3473ih.xml', 'data/samples/congress/117/uslm\\\\BILLS-117hr3593eh.xml', 'data/samples/congress/117/uslm\\\\BILLS-117hr3593ih.xml', 'data/samples/congress/117/uslm\\\\BILLS-117hr3593rfs.xml', 'data/samples/congress/117/uslm\\\\BILLS-117hr3593rh.xml', 'data/samples/congress/117/uslm\\\\BILLS-117hr4334ih.xml', 'data/samples/congress/117/uslm\\\\BILLS-117hr4341ih.xml', 'data/samples/congress/117/uslm\\\\BILLS-117hr4372rh.xml', 'data/samples/congress/117/uslm\\\\BILLS-117hr4431rh.xml', 'data/samples/congress/117/uslm\\\\BILLS-117hr4432rh.xml', 'data/samples/congress/117/uslm\\\\BILLS-117hr4497ih.xml', 'data/samples/congress/117/uslm\\\\BILLS-117hr4505rh.xml', 'data/samples/congress/117/uslm\\\\BILLS-117hr4614ih.xml', 'data/samples/congress/117/uslm\\\\BILLS-117hr485eh.xml']\n"
     ]
    }
   ],
   "source": [
    "print(sorted(get_files_by_size(200, 300, PATH_117_USLM)) [10:30])\n",
    "\n",
    "#create temp list\n",
    "temp=[]\n",
    "\n",
    "#append avg size\n",
    "temp.append(int((200 + 300)/2))"
   ]
  },
  {
   "cell_type": "code",
   "execution_count": 33,
   "metadata": {
    "scrolled": true
   },
   "outputs": [
    {
     "name": "stdout",
     "output_type": "stream",
     "text": [
      "0.06404662132263184 [[0.90979024]]\n",
      "0.06904864311218262\n",
      "0.003000974655151367\n",
      "0.13609623908996582\n"
     ]
    }
   ],
   "source": [
    "#pick any Document A & any Document B from data lists (at least that have more than 1 section)\n",
    "A_doc_name = 'BILLS-117hr3593eh'\n",
    "B_doc_name = 'BILLS-117hr3593ih'\n",
    "\n",
    "#get documents by file name\n",
    "A_doc = [i[1] for i in doc_corpus_data if A_doc_name ==i[0]][0]\n",
    "B_doc = [i[1] for i in doc_corpus_data if B_doc_name ==i[0]][0]\n",
    "\n",
    "A_section_doc = [i[2] for i in section_corpus_data if A_doc_name ==i[0]]\n",
    "B_section_doc = [i[2] for i in section_corpus_data if B_doc_name ==i[0]]\n",
    "\n",
    "\n",
    "#transform document A content and document B content\n",
    "A_doc_vectorized = document_count_vectorized_transformation(A_doc, doc_count_vectorizer)\n",
    "B_doc_vectorized = document_count_vectorized_transformation(B_doc, doc_count_vectorizer)\n",
    "\n",
    "#transform document A section content and  document B section content\n",
    "A_section_doc_vectorized = section_doc_count_vectorized_transformation(A_section_doc, sec_count_vectorizer)\n",
    "B_section_doc_vectorized = section_doc_count_vectorized_transformation(B_section_doc, sec_count_vectorizer)\n",
    "\n",
    "\n",
    "#calculate pairwise similarity \n",
    "elapsed_1, doc_sim_score = cosine_pairwise_sim(A_doc_vectorized, B_doc_vectorized)\n",
    "elapsed_2, sec_doc_sim_score = cosine_pairwise_sim(A_section_doc_vectorized, B_section_doc_vectorized)\n",
    "elapsed_3, response = create_list_response(A_doc_name, B_doc_name, doc_sim_score, sec_doc_sim_score)\n",
    "\n",
    "total_elapsed_time = elapsed_1 + elapsed_2 + elapsed_3\n",
    "\n",
    "#append total_elapsed_time\n",
    "temp.append(total_elapsed_time)\n",
    "\n",
    "#append temp list into stats_time_size_analysis\n",
    "stats_time_size_analysis.append(temp)\n",
    "\n",
    "print(elapsed_1, doc_sim_score)\n",
    "print(elapsed_2)\n",
    "print(elapsed_3)\n",
    "\n",
    "print(total_elapsed_time)\n"
   ]
  },
  {
   "cell_type": "markdown",
   "metadata": {},
   "source": [
    "## Case # 08"
   ]
  },
  {
   "cell_type": "code",
   "execution_count": 34,
   "metadata": {
    "scrolled": true
   },
   "outputs": [
    {
     "name": "stdout",
     "output_type": "stream",
     "text": [
      "['data/samples/congress/117/uslm\\\\BILLS-117hr2731ih.xml', 'data/samples/congress/117/uslm\\\\BILLS-117hr3435ih.xml', 'data/samples/congress/117/uslm\\\\BILLS-117hr3ih.xml', 'data/samples/congress/117/uslm\\\\BILLS-117hr4153ih.xml', 'data/samples/congress/117/uslm\\\\BILLS-117hr4345rh.xml', 'data/samples/congress/117/uslm\\\\BILLS-117hr447eh.xml', 'data/samples/congress/117/uslm\\\\BILLS-117hr447ih.xml', 'data/samples/congress/117/uslm\\\\BILLS-117hr447rfs.xml', 'data/samples/congress/117/uslm\\\\BILLS-117hr4502rh.xml', 'data/samples/congress/117/uslm\\\\BILLS-117hr4550rh.xml', 'data/samples/congress/117/uslm\\\\BILLS-117s1260is.xml', 'data/samples/congress/117/uslm\\\\BILLS-117s1276is.xml', 'data/samples/congress/117/uslm\\\\BILLS-117s1298is.xml', 'data/samples/congress/117/uslm\\\\BILLS-117s1770is.xml', 'data/samples/congress/117/uslm\\\\BILLS-117s1927is.xml', 'data/samples/congress/117/uslm\\\\BILLS-117s2401rs.xml', 'data/samples/congress/117/uslm\\\\BILLS-117s2569is.xml', 'data/samples/congress/117/uslm\\\\BILLS-117s2610pcs.xml', 'data/samples/congress/117/uslm\\\\BILLS-117s914es.xml', 'data/samples/congress/117/uslm\\\\BILLS-117s984is.xml']\n"
     ]
    }
   ],
   "source": [
    "print(sorted(get_files_by_size(300, 400, PATH_117_USLM)) [10:30])\n",
    "\n",
    "#create temp list\n",
    "temp=[]\n",
    "\n",
    "#append avg size\n",
    "temp.append(int((300 + 400)/2))"
   ]
  },
  {
   "cell_type": "code",
   "execution_count": 35,
   "metadata": {},
   "outputs": [
    {
     "name": "stdout",
     "output_type": "stream",
     "text": [
      "0.060042381286621094 [[0.98971326]]\n",
      "0.07405304908752441\n",
      "0.002000570297241211\n",
      "0.13609600067138672\n"
     ]
    }
   ],
   "source": [
    "#pick any Document A & any Document B from data lists (at least that have more than 1 section)\n",
    "A_doc_name = 'BILLS-117hr447eh'\n",
    "B_doc_name = 'BILLS-117hr447ih'\n",
    "\n",
    "#get documents by file name\n",
    "A_doc = [i[1] for i in doc_corpus_data if A_doc_name ==i[0]][0]\n",
    "B_doc = [i[1] for i in doc_corpus_data if B_doc_name ==i[0]][0]\n",
    "\n",
    "A_section_doc = [i[2] for i in section_corpus_data if A_doc_name ==i[0]]\n",
    "B_section_doc = [i[2] for i in section_corpus_data if B_doc_name ==i[0]]\n",
    "\n",
    "\n",
    "#transform document A content and document B content\n",
    "A_doc_vectorized = document_count_vectorized_transformation(A_doc, doc_count_vectorizer)\n",
    "B_doc_vectorized = document_count_vectorized_transformation(B_doc, doc_count_vectorizer)\n",
    "\n",
    "#transform document A section content and  document B section content\n",
    "A_section_doc_vectorized = section_doc_count_vectorized_transformation(A_section_doc, sec_count_vectorizer)\n",
    "B_section_doc_vectorized = section_doc_count_vectorized_transformation(B_section_doc, sec_count_vectorizer)\n",
    "\n",
    "\n",
    "#calculate pairwise similarity \n",
    "elapsed_1, doc_sim_score = cosine_pairwise_sim(A_doc_vectorized, B_doc_vectorized)\n",
    "elapsed_2, sec_doc_sim_score = cosine_pairwise_sim(A_section_doc_vectorized, B_section_doc_vectorized)\n",
    "elapsed_3, response = create_list_response(A_doc_name, B_doc_name, doc_sim_score, sec_doc_sim_score)\n",
    "\n",
    "total_elapsed_time = elapsed_1 + elapsed_2 + elapsed_3\n",
    "\n",
    "#append total_elapsed_time\n",
    "temp.append(total_elapsed_time)\n",
    "\n",
    "#append temp list into stats_time_size_analysis\n",
    "stats_time_size_analysis.append(temp)\n",
    "\n",
    "print(elapsed_1, doc_sim_score)\n",
    "print(elapsed_2)\n",
    "print(elapsed_3)\n",
    "\n",
    "print(total_elapsed_time)\n"
   ]
  },
  {
   "cell_type": "markdown",
   "metadata": {},
   "source": [
    "## Case # 09"
   ]
  },
  {
   "cell_type": "code",
   "execution_count": 36,
   "metadata": {
    "scrolled": true
   },
   "outputs": [
    {
     "name": "stdout",
     "output_type": "stream",
     "text": [
      "['data/samples/congress/117/uslm\\\\BILLS-117hr1537ih.xml', 'data/samples/congress/117/uslm\\\\BILLS-117hr1603eh.xml', 'data/samples/congress/117/uslm\\\\BILLS-117hr1603ih.xml', 'data/samples/congress/117/uslm\\\\BILLS-117hr1603rfs.xml', 'data/samples/congress/117/uslm\\\\BILLS-117hr1783ih.xml', 'data/samples/congress/117/uslm\\\\BILLS-117hr2803ih.xml', 'data/samples/congress/117/uslm\\\\BILLS-117hr3000ih.xml', 'data/samples/congress/117/uslm\\\\BILLS-117hr4128ih.xml', 'data/samples/congress/117/uslm\\\\BILLS-117hr4309ih.xml', 'data/samples/congress/117/uslm\\\\BILLS-117hr4690ih.xml', 'data/samples/congress/117/uslm\\\\BILLS-117hr959ih.xml', 'data/samples/congress/117/uslm\\\\BILLS-117s1201is.xml', 'data/samples/congress/117/uslm\\\\BILLS-117s1275rs.xml', 'data/samples/congress/117/uslm\\\\BILLS-117s1337is.xml', 'data/samples/congress/117/uslm\\\\BILLS-117s1459is.xml', 'data/samples/congress/117/uslm\\\\BILLS-117s2209is.xml', 'data/samples/congress/117/uslm\\\\BILLS-117s2297rs.xml', 'data/samples/congress/117/uslm\\\\BILLS-117s346is.xml', 'data/samples/congress/117/uslm\\\\BILLS-117s745is.xml', 'data/samples/congress/117/uslm\\\\BILLS-117s914rs.xml']\n"
     ]
    }
   ],
   "source": [
    "print(sorted(get_files_by_size(400, 500, PATH_117_USLM)) [0:30])\n",
    "\n",
    "#create temp list\n",
    "temp=[]\n",
    "\n",
    "#append avg size\n",
    "temp.append(int((400 + 500)/2))"
   ]
  },
  {
   "cell_type": "code",
   "execution_count": 37,
   "metadata": {},
   "outputs": [
    {
     "name": "stdout",
     "output_type": "stream",
     "text": [
      "0.062101125717163086 [[0.99956919]]\n",
      "0.06250524520874023\n",
      "0.015622615814208984\n",
      "0.1402289867401123\n"
     ]
    }
   ],
   "source": [
    "#pick any Document A & any Document B from data lists (at least that have more than 1 section)\n",
    "A_doc_name = 'BILLS-117hr1603eh'\n",
    "B_doc_name = 'BILLS-117hr1603ih'\n",
    "\n",
    "#get documents by file name\n",
    "A_doc = [i[1] for i in doc_corpus_data if A_doc_name ==i[0]][0]\n",
    "B_doc = [i[1] for i in doc_corpus_data if B_doc_name ==i[0]][0]\n",
    "\n",
    "A_section_doc = [i[2] for i in section_corpus_data if A_doc_name ==i[0]]\n",
    "B_section_doc = [i[2] for i in section_corpus_data if B_doc_name ==i[0]]\n",
    "\n",
    "\n",
    "#transform document A content and document B content\n",
    "A_doc_vectorized = document_count_vectorized_transformation(A_doc, doc_count_vectorizer)\n",
    "B_doc_vectorized = document_count_vectorized_transformation(B_doc, doc_count_vectorizer)\n",
    "\n",
    "#transform document A section content and  document B section content\n",
    "A_section_doc_vectorized = section_doc_count_vectorized_transformation(A_section_doc, sec_count_vectorizer)\n",
    "B_section_doc_vectorized = section_doc_count_vectorized_transformation(B_section_doc, sec_count_vectorizer)\n",
    "\n",
    "\n",
    "#calculate pairwise similarity \n",
    "elapsed_1, doc_sim_score = cosine_pairwise_sim(A_doc_vectorized, B_doc_vectorized)\n",
    "elapsed_2, sec_doc_sim_score = cosine_pairwise_sim(A_section_doc_vectorized, B_section_doc_vectorized)\n",
    "elapsed_3, response = create_list_response(A_doc_name, B_doc_name, doc_sim_score, sec_doc_sim_score)\n",
    "\n",
    "total_elapsed_time = elapsed_1 + elapsed_2 + elapsed_3\n",
    "\n",
    "#append total_elapsed_time\n",
    "temp.append(total_elapsed_time)\n",
    "\n",
    "#append temp list into stats_time_size_analysis\n",
    "stats_time_size_analysis.append(temp)\n",
    "\n",
    "print(elapsed_1, doc_sim_score)\n",
    "print(elapsed_2)\n",
    "print(elapsed_3)\n",
    "\n",
    "print(total_elapsed_time)\n"
   ]
  },
  {
   "cell_type": "markdown",
   "metadata": {},
   "source": [
    "## Case # 10"
   ]
  },
  {
   "cell_type": "code",
   "execution_count": 38,
   "metadata": {
    "scrolled": true
   },
   "outputs": [
    {
     "name": "stdout",
     "output_type": "stream",
     "text": [
      "['data/samples/congress/117/uslm\\\\BILLS-117s1169is.xml', 'data/samples/congress/117/uslm\\\\BILLS-117s192is.xml', 'data/samples/congress/117/uslm\\\\BILLS-117s2118pcs.xml', 'data/samples/congress/117/uslm\\\\BILLS-117s348is.xml', 'data/samples/congress/117/uslm\\\\BILLS-117s954is.xml']\n"
     ]
    }
   ],
   "source": [
    "print(sorted(get_files_by_size(500, 800, PATH_117_USLM)) [10:30])\n",
    "\n",
    "#create temp list\n",
    "temp=[]\n",
    "\n",
    "#append avg size\n",
    "temp.append(int((500 + 800)/2))"
   ]
  },
  {
   "cell_type": "code",
   "execution_count": 39,
   "metadata": {},
   "outputs": [
    {
     "name": "stdout",
     "output_type": "stream",
     "text": [
      "0.04687380790710449 [[0.98971326]]\n",
      "0.0781257152557373\n",
      "0.0\n",
      "0.1249995231628418\n"
     ]
    }
   ],
   "source": [
    "#pick any Document A & any Document B from data lists (at least that have more than 1 section)\n",
    "A_doc_name = 'BILLS-117hr447eh'\n",
    "B_doc_name = 'BILLS-117hr447ih'\n",
    "\n",
    "#get documents by file name\n",
    "A_doc = [i[1] for i in doc_corpus_data if A_doc_name ==i[0]][0]\n",
    "B_doc = [i[1] for i in doc_corpus_data if B_doc_name ==i[0]][0]\n",
    "\n",
    "A_section_doc = [i[2] for i in section_corpus_data if A_doc_name ==i[0]]\n",
    "B_section_doc = [i[2] for i in section_corpus_data if B_doc_name ==i[0]]\n",
    "\n",
    "\n",
    "#transform document A content and document B content\n",
    "A_doc_vectorized = document_count_vectorized_transformation(A_doc, doc_count_vectorizer)\n",
    "B_doc_vectorized = document_count_vectorized_transformation(B_doc, doc_count_vectorizer)\n",
    "\n",
    "#transform document A section content and  document B section content\n",
    "A_section_doc_vectorized = section_doc_count_vectorized_transformation(A_section_doc, sec_count_vectorizer)\n",
    "B_section_doc_vectorized = section_doc_count_vectorized_transformation(B_section_doc, sec_count_vectorizer)\n",
    "\n",
    "\n",
    "#calculate pairwise similarity \n",
    "elapsed_1, doc_sim_score = cosine_pairwise_sim(A_doc_vectorized, B_doc_vectorized)\n",
    "elapsed_2, sec_doc_sim_score = cosine_pairwise_sim(A_section_doc_vectorized, B_section_doc_vectorized)\n",
    "elapsed_3, response = create_list_response(A_doc_name, B_doc_name, doc_sim_score, sec_doc_sim_score)\n",
    "\n",
    "total_elapsed_time = elapsed_1 + elapsed_2 + elapsed_3\n",
    "\n",
    "#append total_elapsed_time\n",
    "temp.append(total_elapsed_time)\n",
    "\n",
    "#append temp list into stats_time_size_analysis\n",
    "stats_time_size_analysis.append(temp)\n",
    "\n",
    "print(elapsed_1, doc_sim_score)\n",
    "print(elapsed_2)\n",
    "print(elapsed_3)\n",
    "\n",
    "print(total_elapsed_time)\n"
   ]
  },
  {
   "cell_type": "markdown",
   "metadata": {},
   "source": [
    "## Case # 11"
   ]
  },
  {
   "cell_type": "code",
   "execution_count": 40,
   "metadata": {
    "scrolled": true
   },
   "outputs": [
    {
     "name": "stdout",
     "output_type": "stream",
     "text": [
      "['data/samples/congress/117/uslm\\\\BILLS-117hr3524ih.xml', 'data/samples/congress/117/uslm\\\\BILLS-117hr803eh.xml', 'data/samples/congress/117/uslm\\\\BILLS-117hr803rfs.xml', 'data/samples/congress/117/uslm\\\\BILLS-117s589is.xml']\n"
     ]
    }
   ],
   "source": [
    "print(sorted(get_files_by_size(800, 1000, PATH_117_USLM)) [:])\n",
    "\n",
    "#create temp list\n",
    "temp=[]\n",
    "\n",
    "#append avg size\n",
    "temp.append(int((800 + 1000)/2))"
   ]
  },
  {
   "cell_type": "code",
   "execution_count": 41,
   "metadata": {},
   "outputs": [
    {
     "name": "stdout",
     "output_type": "stream",
     "text": [
      "0.0625002384185791 [[1.]]\n",
      "0.07812619209289551\n",
      "0.0781252384185791\n",
      "0.2187516689300537\n"
     ]
    }
   ],
   "source": [
    "#pick any Document A & any Document B from data lists (at least that have more than 1 section)\n",
    "A_doc_name = 'BILLS-117hr803eh'\n",
    "B_doc_name = 'BILLS-117hr803rfs'\n",
    "\n",
    "#get documents by file name\n",
    "A_doc = [i[1] for i in doc_corpus_data if A_doc_name ==i[0]][0]\n",
    "B_doc = [i[1] for i in doc_corpus_data if B_doc_name ==i[0]][0]\n",
    "\n",
    "A_section_doc = [i[2] for i in section_corpus_data if A_doc_name ==i[0]]\n",
    "B_section_doc = [i[2] for i in section_corpus_data if B_doc_name ==i[0]]\n",
    "\n",
    "\n",
    "#transform document A content and document B content\n",
    "A_doc_vectorized = document_count_vectorized_transformation(A_doc, doc_count_vectorizer)\n",
    "B_doc_vectorized = document_count_vectorized_transformation(B_doc, doc_count_vectorizer)\n",
    "\n",
    "#transform document A section content and  document B section content\n",
    "A_section_doc_vectorized = section_doc_count_vectorized_transformation(A_section_doc, sec_count_vectorizer)\n",
    "B_section_doc_vectorized = section_doc_count_vectorized_transformation(B_section_doc, sec_count_vectorizer)\n",
    "\n",
    "\n",
    "#calculate pairwise similarity \n",
    "elapsed_1, doc_sim_score = cosine_pairwise_sim(A_doc_vectorized, B_doc_vectorized)\n",
    "elapsed_2, sec_doc_sim_score = cosine_pairwise_sim(A_section_doc_vectorized, B_section_doc_vectorized)\n",
    "elapsed_3, response = create_list_response(A_doc_name, B_doc_name, doc_sim_score, sec_doc_sim_score)\n",
    "\n",
    "total_elapsed_time = elapsed_1 + elapsed_2 + elapsed_3\n",
    "\n",
    "#append total_elapsed_time\n",
    "temp.append(total_elapsed_time)\n",
    "\n",
    "#append temp list into stats_time_size_analysis\n",
    "stats_time_size_analysis.append(temp)\n",
    "\n",
    "print(elapsed_1, doc_sim_score)\n",
    "print(elapsed_2)\n",
    "print(elapsed_3)\n",
    "\n",
    "print(total_elapsed_time)\n"
   ]
  },
  {
   "cell_type": "markdown",
   "metadata": {},
   "source": [
    "## Case # 12"
   ]
  },
  {
   "cell_type": "code",
   "execution_count": 42,
   "metadata": {
    "scrolled": true
   },
   "outputs": [
    {
     "name": "stdout",
     "output_type": "stream",
     "text": [
      "['data/samples/congress/117/uslm\\\\BILLS-117hr1319eas.xml', 'data/samples/congress/117/uslm\\\\BILLS-117hr1319eh.xml', 'data/samples/congress/117/uslm\\\\BILLS-117hr1319enr.xml', 'data/samples/congress/117/uslm\\\\BILLS-117hr1319pcs.xml', 'data/samples/congress/117/uslm\\\\BILLS-117hr1319rh.xml', 'data/samples/congress/117/uslm\\\\BILLS-117hr1848ih.xml', 'data/samples/congress/117/uslm\\\\BILLS-117s1931rs.xml', 'data/samples/congress/117/uslm\\\\BILLS-117s1953is.xml', 'data/samples/congress/117/uslm\\\\BILLS-117s2016is.xml', 'data/samples/congress/117/uslm\\\\BILLS-117s2377rs.xml']\n"
     ]
    }
   ],
   "source": [
    "print(sorted(get_files_by_size(1000, 1500, PATH_117_USLM)) [:])\n",
    "\n",
    "#create temp list\n",
    "temp=[]\n",
    "\n",
    "#append avg size\n",
    "temp.append(int((1000 + 1500)/2))"
   ]
  },
  {
   "cell_type": "code",
   "execution_count": 43,
   "metadata": {},
   "outputs": [
    {
     "name": "stdout",
     "output_type": "stream",
     "text": [
      "0.06250262260437012 [[0.94890315]]\n",
      "0.0937495231628418\n",
      "0.1718752384185791\n",
      "0.328127384185791\n"
     ]
    }
   ],
   "source": [
    "#pick any Document A & any Document B from data lists (at least that have more than 1 section)\n",
    "A_doc_name = 'BILLS-117hr1319pcs'\n",
    "B_doc_name = 'BILLS-117hr1319rh'\n",
    "\n",
    "#get documents by file name\n",
    "A_doc = [i[1] for i in doc_corpus_data if A_doc_name ==i[0]][0]\n",
    "B_doc = [i[1] for i in doc_corpus_data if B_doc_name ==i[0]][0]\n",
    "\n",
    "A_section_doc = [i[2] for i in section_corpus_data if A_doc_name ==i[0]]\n",
    "B_section_doc = [i[2] for i in section_corpus_data if B_doc_name ==i[0]]\n",
    "\n",
    "\n",
    "#transform document A content and document B content\n",
    "A_doc_vectorized = document_count_vectorized_transformation(A_doc, doc_count_vectorizer)\n",
    "B_doc_vectorized = document_count_vectorized_transformation(B_doc, doc_count_vectorizer)\n",
    "\n",
    "#transform document A section content and  document B section content\n",
    "A_section_doc_vectorized = section_doc_count_vectorized_transformation(A_section_doc, sec_count_vectorizer)\n",
    "B_section_doc_vectorized = section_doc_count_vectorized_transformation(B_section_doc, sec_count_vectorizer)\n",
    "\n",
    "\n",
    "#calculate pairwise similarity \n",
    "elapsed_1, doc_sim_score = cosine_pairwise_sim(A_doc_vectorized, B_doc_vectorized)\n",
    "elapsed_2, sec_doc_sim_score = cosine_pairwise_sim(A_section_doc_vectorized, B_section_doc_vectorized)\n",
    "elapsed_3, response = create_list_response(A_doc_name, B_doc_name, doc_sim_score, sec_doc_sim_score)\n",
    "\n",
    "total_elapsed_time = elapsed_1 + elapsed_2 + elapsed_3\n",
    "\n",
    "#append total_elapsed_time\n",
    "temp.append(total_elapsed_time)\n",
    "\n",
    "#append temp list into stats_time_size_analysis\n",
    "stats_time_size_analysis.append(temp)\n",
    "\n",
    "print(elapsed_1, doc_sim_score)\n",
    "print(elapsed_2)\n",
    "print(elapsed_3)\n",
    "\n",
    "print(total_elapsed_time)\n"
   ]
  },
  {
   "cell_type": "markdown",
   "metadata": {},
   "source": [
    "## Case # 13"
   ]
  },
  {
   "cell_type": "code",
   "execution_count": 44,
   "metadata": {
    "scrolled": true
   },
   "outputs": [
    {
     "name": "stdout",
     "output_type": "stream",
     "text": [
      "['data/samples/congress/117/uslm\\\\BILLS-117hr1ih.xml', 'data/samples/congress/117/uslm\\\\BILLS-117hr4502eh.xml', 'data/samples/congress/117/uslm\\\\BILLS-117s1169rs.xml', 'data/samples/congress/117/uslm\\\\BILLS-117s1260rs.xml', 'data/samples/congress/117/uslm\\\\BILLS-117s1is.xml', 'data/samples/congress/117/uslm\\\\BILLS-117s1pcs.xml', 'data/samples/congress/117/uslm\\\\BILLS-117s2093pcs.xml']\n"
     ]
    }
   ],
   "source": [
    "print(sorted(get_files_by_size(1500, 2000, PATH_117_USLM)) [:])\n",
    "\n",
    "#create temp list\n",
    "temp=[]\n",
    "\n",
    "#append avg size\n",
    "temp.append(int((1500 + 2000)/2))"
   ]
  },
  {
   "cell_type": "code",
   "execution_count": 45,
   "metadata": {},
   "outputs": [
    {
     "name": "stdout",
     "output_type": "stream",
     "text": [
      "0.10109663009643555 [[1.]]\n",
      "0.1093752384185791\n",
      "0.40223145484924316\n",
      "0.6127033233642578\n"
     ]
    }
   ],
   "source": [
    "#pick any Document A & any Document B from data lists (at least that have more than 1 section)\n",
    "A_doc_name = 'BILLS-117s1is'\n",
    "B_doc_name = 'BILLS-117s1pcs'\n",
    "\n",
    "#get documents by file name\n",
    "A_doc = [i[1] for i in doc_corpus_data if A_doc_name ==i[0]][0]\n",
    "B_doc = [i[1] for i in doc_corpus_data if B_doc_name ==i[0]][0]\n",
    "\n",
    "A_section_doc = [i[2] for i in section_corpus_data if A_doc_name ==i[0]]\n",
    "B_section_doc = [i[2] for i in section_corpus_data if B_doc_name ==i[0]]\n",
    "\n",
    "\n",
    "#transform document A content and document B content\n",
    "A_doc_vectorized = document_count_vectorized_transformation(A_doc, doc_count_vectorizer)\n",
    "B_doc_vectorized = document_count_vectorized_transformation(B_doc, doc_count_vectorizer)\n",
    "\n",
    "#transform document A section content and  document B section content\n",
    "A_section_doc_vectorized = section_doc_count_vectorized_transformation(A_section_doc, sec_count_vectorizer)\n",
    "B_section_doc_vectorized = section_doc_count_vectorized_transformation(B_section_doc, sec_count_vectorizer)\n",
    "\n",
    "\n",
    "#calculate pairwise similarity \n",
    "elapsed_1, doc_sim_score = cosine_pairwise_sim(A_doc_vectorized, B_doc_vectorized)\n",
    "elapsed_2, sec_doc_sim_score = cosine_pairwise_sim(A_section_doc_vectorized, B_section_doc_vectorized)\n",
    "elapsed_3, response = create_list_response(A_doc_name, B_doc_name, doc_sim_score, sec_doc_sim_score)\n",
    "\n",
    "total_elapsed_time = elapsed_1 + elapsed_2 + elapsed_3\n",
    "\n",
    "#append total_elapsed_time\n",
    "temp.append(total_elapsed_time)\n",
    "\n",
    "#append temp list into stats_time_size_analysis\n",
    "stats_time_size_analysis.append(temp)\n",
    "\n",
    "print(elapsed_1, doc_sim_score)\n",
    "print(elapsed_2)\n",
    "print(elapsed_3)\n",
    "\n",
    "print(total_elapsed_time)\n"
   ]
  },
  {
   "cell_type": "markdown",
   "metadata": {},
   "source": [
    "## Case # 14"
   ]
  },
  {
   "cell_type": "code",
   "execution_count": 46,
   "metadata": {
    "scrolled": true
   },
   "outputs": [
    {
     "name": "stdout",
     "output_type": "stream",
     "text": [
      "['data/samples/congress/117/uslm\\\\BILLS-117hr1512ih.xml', 'data/samples/congress/117/uslm\\\\BILLS-117hr1eh.xml', 'data/samples/congress/117/uslm\\\\BILLS-117hr3684ih.xml', 'data/samples/congress/117/uslm\\\\BILLS-117hr3684rh.xml', 'data/samples/congress/117/uslm\\\\BILLS-117hr3975ih.xml', 'data/samples/congress/117/uslm\\\\BILLS-117hr4037ih.xml']\n"
     ]
    }
   ],
   "source": [
    "print(sorted(get_files_by_size(2000, 5000, PATH_117_USLM)) [:])\n",
    "\n",
    "#create temp list\n",
    "temp=[]\n",
    "\n",
    "#append avg size\n",
    "temp.append(int((2000 + 5000)/2))"
   ]
  },
  {
   "cell_type": "code",
   "execution_count": 47,
   "metadata": {},
   "outputs": [
    {
     "name": "stdout",
     "output_type": "stream",
     "text": [
      "0.06249570846557617 [[0.99598483]]\n",
      "0.1250007152557373\n",
      "0.39062952995300293\n",
      "0.5781259536743164\n"
     ]
    }
   ],
   "source": [
    "#pick any Document A & any Document B from data lists (at least that have more than 1 section)\n",
    "A_doc_name = 'BILLS-117hr3684ih'\n",
    "B_doc_name = 'BILLS-117hr3684rh'\n",
    "\n",
    "#get documents by file name\n",
    "A_doc = [i[1] for i in doc_corpus_data if A_doc_name ==i[0]][0]\n",
    "B_doc = [i[1] for i in doc_corpus_data if B_doc_name ==i[0]][0]\n",
    "\n",
    "A_section_doc = [i[2] for i in section_corpus_data if A_doc_name ==i[0]]\n",
    "B_section_doc = [i[2] for i in section_corpus_data if B_doc_name ==i[0]]\n",
    "\n",
    "\n",
    "#transform document A content and document B content\n",
    "A_doc_vectorized = document_count_vectorized_transformation(A_doc, doc_count_vectorizer)\n",
    "B_doc_vectorized = document_count_vectorized_transformation(B_doc, doc_count_vectorizer)\n",
    "\n",
    "#transform document A section content and  document B section content\n",
    "A_section_doc_vectorized = section_doc_count_vectorized_transformation(A_section_doc, sec_count_vectorizer)\n",
    "B_section_doc_vectorized = section_doc_count_vectorized_transformation(B_section_doc, sec_count_vectorizer)\n",
    "\n",
    "\n",
    "#calculate pairwise similarity \n",
    "elapsed_1, doc_sim_score = cosine_pairwise_sim(A_doc_vectorized, B_doc_vectorized)\n",
    "elapsed_2, sec_doc_sim_score = cosine_pairwise_sim(A_section_doc_vectorized, B_section_doc_vectorized)\n",
    "elapsed_3, response = create_list_response(A_doc_name, B_doc_name, doc_sim_score, sec_doc_sim_score)\n",
    "\n",
    "total_elapsed_time = elapsed_1 + elapsed_2 + elapsed_3\n",
    "\n",
    "#append total_elapsed_time\n",
    "temp.append(total_elapsed_time)\n",
    "\n",
    "#append temp list into stats_time_size_analysis\n",
    "stats_time_size_analysis.append(temp)\n",
    "\n",
    "print(elapsed_1, doc_sim_score)\n",
    "print(elapsed_2)\n",
    "print(elapsed_3)\n",
    "\n",
    "print(total_elapsed_time)\n"
   ]
  },
  {
   "cell_type": "markdown",
   "metadata": {},
   "source": [
    "## Case # 15"
   ]
  },
  {
   "cell_type": "code",
   "execution_count": 48,
   "metadata": {
    "scrolled": true
   },
   "outputs": [
    {
     "name": "stdout",
     "output_type": "stream",
     "text": [
      "['data/samples/congress/117/uslm\\\\BILLS-117hr3684eh.xml', 'data/samples/congress/117/uslm\\\\BILLS-117hr3684pcs.xml', 'data/samples/congress/117/uslm\\\\BILLS-117s1260es.xml']\n"
     ]
    }
   ],
   "source": [
    "print(sorted(get_files_by_size(5000, 8000, PATH_117_USLM)) [:])\n",
    "\n",
    "#create temp list\n",
    "temp=[]\n",
    "\n",
    "#append avg size\n",
    "temp.append(int((5000 + 8000)/2))"
   ]
  },
  {
   "cell_type": "code",
   "execution_count": 49,
   "metadata": {},
   "outputs": [
    {
     "name": "stdout",
     "output_type": "stream",
     "text": [
      "0.0937504768371582 [[0.99999868]]\n",
      "0.20312833786010742\n",
      "1.1844401359558105\n",
      "1.4813189506530762\n"
     ]
    }
   ],
   "source": [
    "#pick any Document A & any Document B from data lists (at least that have more than 1 section)\n",
    "A_doc_name = 'BILLS-117hr3684eh'\n",
    "B_doc_name = 'BILLS-117hr3684pcs'\n",
    "\n",
    "#get documents by file name\n",
    "A_doc = [i[1] for i in doc_corpus_data if A_doc_name ==i[0]][0]\n",
    "B_doc = [i[1] for i in doc_corpus_data if B_doc_name ==i[0]][0]\n",
    "\n",
    "A_section_doc = [i[2] for i in section_corpus_data if A_doc_name ==i[0]]\n",
    "B_section_doc = [i[2] for i in section_corpus_data if B_doc_name ==i[0]]\n",
    "\n",
    "\n",
    "#transform document A content and document B content\n",
    "A_doc_vectorized = document_count_vectorized_transformation(A_doc, doc_count_vectorizer)\n",
    "B_doc_vectorized = document_count_vectorized_transformation(B_doc, doc_count_vectorizer)\n",
    "\n",
    "#transform document A section content and  document B section content\n",
    "A_section_doc_vectorized = section_doc_count_vectorized_transformation(A_section_doc, sec_count_vectorizer)\n",
    "B_section_doc_vectorized = section_doc_count_vectorized_transformation(B_section_doc, sec_count_vectorizer)\n",
    "\n",
    "\n",
    "#calculate pairwise similarity \n",
    "elapsed_1, doc_sim_score = cosine_pairwise_sim(A_doc_vectorized, B_doc_vectorized)\n",
    "elapsed_2, sec_doc_sim_score = cosine_pairwise_sim(A_section_doc_vectorized, B_section_doc_vectorized)\n",
    "elapsed_3, response = create_list_response(A_doc_name, B_doc_name, doc_sim_score, sec_doc_sim_score)\n",
    "\n",
    "total_elapsed_time = elapsed_1 + elapsed_2 + elapsed_3\n",
    "\n",
    "#append total_elapsed_time\n",
    "temp.append(total_elapsed_time)\n",
    "\n",
    "#append temp list into stats_time_size_analysis\n",
    "stats_time_size_analysis.append(temp)\n",
    "\n",
    "print(elapsed_1, doc_sim_score)\n",
    "print(elapsed_2)\n",
    "print(elapsed_3)\n",
    "\n",
    "print(total_elapsed_time)\n"
   ]
  },
  {
   "cell_type": "code",
   "execution_count": 50,
   "metadata": {},
   "outputs": [
    {
     "data": {
      "text/plain": [
       "15"
      ]
     },
     "execution_count": 50,
     "metadata": {},
     "output_type": "execute_result"
    }
   ],
   "source": [
    "len(stats_time_size_analysis)"
   ]
  },
  {
   "cell_type": "code",
   "execution_count": 51,
   "metadata": {},
   "outputs": [
    {
     "data": {
      "text/plain": [
       "[[5, 0.13109254837036133],\n",
       " [15, 0.1751260757446289],\n",
       " [25, 0.37026262283325195],\n",
       " [40, 0.14810419082641602],\n",
       " [75, 0.15711331367492676],\n",
       " [125, 0.1256883144378662],\n",
       " [250, 0.13609623908996582],\n",
       " [350, 0.13609600067138672],\n",
       " [450, 0.1402289867401123],\n",
       " [650, 0.1249995231628418],\n",
       " [900, 0.2187516689300537],\n",
       " [1250, 0.328127384185791],\n",
       " [1750, 0.6127033233642578],\n",
       " [3500, 0.5781259536743164],\n",
       " [6500, 1.4813189506530762]]"
      ]
     },
     "execution_count": 51,
     "metadata": {},
     "output_type": "execute_result"
    }
   ],
   "source": [
    "stats_time_size_analysis"
   ]
  },
  {
   "cell_type": "markdown",
   "metadata": {},
   "source": [
    "# Time (s) Size (kb) Analysis of Files"
   ]
  },
  {
   "cell_type": "code",
   "execution_count": 52,
   "metadata": {},
   "outputs": [
    {
     "data": {
      "image/png": "[encoded data removed]",
      "text/plain": [
       "<Figure size 432x288 with 1 Axes>"
      ]
     },
     "metadata": {
      "needs_background": "light"
     },
     "output_type": "display_data"
    }
   ],
   "source": [
    "df = pd.DataFrame(stats_time_size_analysis)\n",
    "df = df.set_index(df.columns[0])\n",
    "\n",
    "df.plot(kind='bar')\n",
    "plt.xlabel(\"Size (kbs)\")\n",
    "plt.ylabel(\"Time (s)\")\n",
    "plt.legend('')\n",
    "plt.show()"
   ]
  },
  {
   "cell_type": "code",
   "execution_count": null,
   "metadata": {},
   "outputs": [],
   "source": []
  }
 ],
 "metadata": {
  "kernelspec": {
   "display_name": "Python 3",
   "language": "python",
   "name": "python3"
  },
  "language_info": {
   "codemirror_mode": {
    "name": "ipython",
    "version": 3
   },
   "file_extension": ".py",
   "mimetype": "text/x-python",
   "name": "python",
   "nbconvert_exporter": "python",
   "pygments_lexer": "ipython3",
   "version": "3.7.6"
  }
 },
 "nbformat": 4,
 "nbformat_minor": 4
}
